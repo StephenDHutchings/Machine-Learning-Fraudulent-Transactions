{
 "cells": [
  {
   "cell_type": "markdown",
   "metadata": {},
   "source": [
    "Stephen Hutchings\n",
    "\n",
    "Fraudulent Transactions\n",
    "\n",
    "3/27/2019"
   ]
  },
  {
   "cell_type": "markdown",
   "metadata": {},
   "source": [
    "Importing the necessary libraries."
   ]
  },
  {
   "cell_type": "code",
   "execution_count": 1,
   "metadata": {},
   "outputs": [],
   "source": [
    "import pandas as pd\n",
    "\n",
    "import numpy as np\n",
    "\n",
    "from itertools import cycle\n",
    "\n",
    "import sklearn as sk\n",
    "from sklearn import preprocessing\n",
    "from sklearn.metrics import mean_squared_error\n",
    "from sklearn.preprocessing import LabelEncoder\n",
    "from sklearn.model_selection import train_test_split\n",
    "from sklearn.model_selection import KFold\n",
    "from sklearn.metrics import confusion_matrix\n",
    "from sklearn.metrics import classification_report\n",
    "from sklearn.metrics import roc_auc_score\n",
    "from sklearn.metrics import roc_curve, auc\n",
    "\n",
    "import operator\n",
    "\n",
    "from math import exp\n",
    "from math import sqrt\n",
    "import math\n",
    "\n",
    "import gc\n",
    "\n",
    "from collections import Counter\n",
    "\n",
    "import matplotlib.pyplot as plt\n",
    "%matplotlib inline"
   ]
  },
  {
   "cell_type": "markdown",
   "metadata": {},
   "source": [
    "Reading in the data sets."
   ]
  },
  {
   "cell_type": "code",
   "execution_count": 2,
   "metadata": {},
   "outputs": [],
   "source": [
    "set_a = pd.read_csv('Set-A.X.csv')\n",
    "set_b = pd.read_csv('Set-B.X.csv')\n",
    "class_labels_a = pd.read_csv('Set-A.y.csv', header = None)\n",
    "class_labels_b = pd.read_csv('Set-B.y.csv', header = None)"
   ]
  },
  {
   "cell_type": "code",
   "execution_count": 3,
   "metadata": {},
   "outputs": [
    {
     "name": "stdout",
     "output_type": "stream",
     "text": [
      "<class 'pandas.core.frame.DataFrame'>\n",
      "RangeIndex: 94682 entries, 0 to 94681\n",
      "Data columns (total 19 columns):\n",
      "amount        94682 non-null float64\n",
      "hour1         94682 non-null int64\n",
      "state1        94682 non-null object\n",
      "zip1          94682 non-null int64\n",
      "field1        94682 non-null int64\n",
      "domain1       94681 non-null object\n",
      "field2        94682 non-null int64\n",
      "hour2         94682 non-null int64\n",
      "flag1         94682 non-null int64\n",
      "total         94682 non-null float64\n",
      "field3        94682 non-null int64\n",
      "field4        94682 non-null int64\n",
      "field5        94682 non-null int64\n",
      "indicator1    94682 non-null int64\n",
      "indicator2    94682 non-null int64\n",
      "flag2         94682 non-null int64\n",
      "flag3         94682 non-null int64\n",
      "flag4         94682 non-null int64\n",
      "flag5         94682 non-null int64\n",
      "dtypes: float64(2), int64(15), object(2)\n",
      "memory usage: 13.7+ MB\n"
     ]
    }
   ],
   "source": [
    "set_a.info()"
   ]
  },
  {
   "cell_type": "code",
   "execution_count": 4,
   "metadata": {},
   "outputs": [
    {
     "name": "stdout",
     "output_type": "stream",
     "text": [
      "<class 'pandas.core.frame.DataFrame'>\n",
      "RangeIndex: 100000 entries, 0 to 99999\n",
      "Data columns (total 19 columns):\n",
      "amount        100000 non-null float64\n",
      "hour1         100000 non-null int64\n",
      "state1        99999 non-null object\n",
      "zip1          100000 non-null int64\n",
      "custAttr1     100000 non-null int64\n",
      "field1        100000 non-null int64\n",
      "custAttr2     100000 non-null object\n",
      "field2        100000 non-null int64\n",
      "hour2         100000 non-null int64\n",
      "flag1         100000 non-null int64\n",
      "total         100000 non-null float64\n",
      "field3        100000 non-null int64\n",
      "field4        100000 non-null int64\n",
      "indicator1    100000 non-null int64\n",
      "indicator2    100000 non-null int64\n",
      "flag2         100000 non-null int64\n",
      "flag3         100000 non-null int64\n",
      "flag4         100000 non-null int64\n",
      "flag5         100000 non-null int64\n",
      "dtypes: float64(2), int64(15), object(2)\n",
      "memory usage: 14.5+ MB\n"
     ]
    }
   ],
   "source": [
    "set_b.info()"
   ]
  },
  {
   "cell_type": "code",
   "execution_count": 5,
   "metadata": {},
   "outputs": [],
   "source": [
    "y = class_labels_a.values\n",
    "y = y.reshape((y.shape[0], 1))"
   ]
  },
  {
   "cell_type": "markdown",
   "metadata": {},
   "source": [
    "Converting the object variables into numerical variables using sklearns label encoder function."
   ]
  },
  {
   "cell_type": "code",
   "execution_count": 6,
   "metadata": {},
   "outputs": [],
   "source": [
    "le = LabelEncoder()\n",
    "set_a['state1'] = le.fit_transform(set_a['state1'])\n",
    "set_a['domain1'] = le.fit_transform(set_a['domain1'].astype(str))"
   ]
  },
  {
   "cell_type": "code",
   "execution_count": 7,
   "metadata": {},
   "outputs": [],
   "source": [
    "set_b['state1'] = le.fit_transform(set_b['state1'].astype(str))\n",
    "set_b['custAttr2'] = le.fit_transform(set_b['custAttr2'])"
   ]
  },
  {
   "cell_type": "code",
   "execution_count": 8,
   "metadata": {},
   "outputs": [
    {
     "data": {
      "text/html": [
       "<div>\n",
       "<style scoped>\n",
       "    .dataframe tbody tr th:only-of-type {\n",
       "        vertical-align: middle;\n",
       "    }\n",
       "\n",
       "    .dataframe tbody tr th {\n",
       "        vertical-align: top;\n",
       "    }\n",
       "\n",
       "    .dataframe thead th {\n",
       "        text-align: right;\n",
       "    }\n",
       "</style>\n",
       "<table border=\"1\" class=\"dataframe\">\n",
       "  <thead>\n",
       "    <tr style=\"text-align: right;\">\n",
       "      <th></th>\n",
       "      <th>amount</th>\n",
       "      <th>hour1</th>\n",
       "      <th>state1</th>\n",
       "      <th>zip1</th>\n",
       "      <th>field1</th>\n",
       "      <th>domain1</th>\n",
       "      <th>field2</th>\n",
       "      <th>hour2</th>\n",
       "      <th>flag1</th>\n",
       "      <th>total</th>\n",
       "      <th>field3</th>\n",
       "      <th>field4</th>\n",
       "      <th>field5</th>\n",
       "      <th>indicator1</th>\n",
       "      <th>indicator2</th>\n",
       "      <th>flag2</th>\n",
       "      <th>flag3</th>\n",
       "      <th>flag4</th>\n",
       "      <th>flag5</th>\n",
       "    </tr>\n",
       "  </thead>\n",
       "  <tbody>\n",
       "    <tr>\n",
       "      <th>0</th>\n",
       "      <td>12.95</td>\n",
       "      <td>0</td>\n",
       "      <td>6</td>\n",
       "      <td>925</td>\n",
       "      <td>3</td>\n",
       "      <td>276</td>\n",
       "      <td>1</td>\n",
       "      <td>0</td>\n",
       "      <td>1</td>\n",
       "      <td>12.95</td>\n",
       "      <td>-4276</td>\n",
       "      <td>7</td>\n",
       "      <td>0</td>\n",
       "      <td>1</td>\n",
       "      <td>0</td>\n",
       "      <td>1</td>\n",
       "      <td>1</td>\n",
       "      <td>0</td>\n",
       "      <td>1</td>\n",
       "    </tr>\n",
       "    <tr>\n",
       "      <th>1</th>\n",
       "      <td>11.01</td>\n",
       "      <td>0</td>\n",
       "      <td>6</td>\n",
       "      <td>925</td>\n",
       "      <td>3</td>\n",
       "      <td>276</td>\n",
       "      <td>1</td>\n",
       "      <td>0</td>\n",
       "      <td>1</td>\n",
       "      <td>11.01</td>\n",
       "      <td>-4276</td>\n",
       "      <td>7</td>\n",
       "      <td>0</td>\n",
       "      <td>1</td>\n",
       "      <td>0</td>\n",
       "      <td>1</td>\n",
       "      <td>1</td>\n",
       "      <td>0</td>\n",
       "      <td>1</td>\n",
       "    </tr>\n",
       "    <tr>\n",
       "      <th>2</th>\n",
       "      <td>38.85</td>\n",
       "      <td>0</td>\n",
       "      <td>6</td>\n",
       "      <td>928</td>\n",
       "      <td>3</td>\n",
       "      <td>3021</td>\n",
       "      <td>1</td>\n",
       "      <td>0</td>\n",
       "      <td>0</td>\n",
       "      <td>38.85</td>\n",
       "      <td>2602</td>\n",
       "      <td>21</td>\n",
       "      <td>1</td>\n",
       "      <td>0</td>\n",
       "      <td>0</td>\n",
       "      <td>0</td>\n",
       "      <td>0</td>\n",
       "      <td>0</td>\n",
       "      <td>1</td>\n",
       "    </tr>\n",
       "    <tr>\n",
       "      <th>3</th>\n",
       "      <td>25.90</td>\n",
       "      <td>0</td>\n",
       "      <td>33</td>\n",
       "      <td>77</td>\n",
       "      <td>0</td>\n",
       "      <td>276</td>\n",
       "      <td>1</td>\n",
       "      <td>0</td>\n",
       "      <td>0</td>\n",
       "      <td>25.90</td>\n",
       "      <td>4139</td>\n",
       "      <td>6</td>\n",
       "      <td>0</td>\n",
       "      <td>0</td>\n",
       "      <td>0</td>\n",
       "      <td>1</td>\n",
       "      <td>1</td>\n",
       "      <td>0</td>\n",
       "      <td>1</td>\n",
       "    </tr>\n",
       "    <tr>\n",
       "      <th>4</th>\n",
       "      <td>12.95</td>\n",
       "      <td>0</td>\n",
       "      <td>6</td>\n",
       "      <td>945</td>\n",
       "      <td>3</td>\n",
       "      <td>9146</td>\n",
       "      <td>0</td>\n",
       "      <td>0</td>\n",
       "      <td>1</td>\n",
       "      <td>12.95</td>\n",
       "      <td>3826</td>\n",
       "      <td>9</td>\n",
       "      <td>1</td>\n",
       "      <td>0</td>\n",
       "      <td>0</td>\n",
       "      <td>1</td>\n",
       "      <td>0</td>\n",
       "      <td>0</td>\n",
       "      <td>1</td>\n",
       "    </tr>\n",
       "  </tbody>\n",
       "</table>\n",
       "</div>"
      ],
      "text/plain": [
       "   amount  hour1  state1  zip1  field1  domain1  field2  hour2  flag1  total  \\\n",
       "0   12.95      0       6   925       3      276       1      0      1  12.95   \n",
       "1   11.01      0       6   925       3      276       1      0      1  11.01   \n",
       "2   38.85      0       6   928       3     3021       1      0      0  38.85   \n",
       "3   25.90      0      33    77       0      276       1      0      0  25.90   \n",
       "4   12.95      0       6   945       3     9146       0      0      1  12.95   \n",
       "\n",
       "   field3  field4  field5  indicator1  indicator2  flag2  flag3  flag4  flag5  \n",
       "0   -4276       7       0           1           0      1      1      0      1  \n",
       "1   -4276       7       0           1           0      1      1      0      1  \n",
       "2    2602      21       1           0           0      0      0      0      1  \n",
       "3    4139       6       0           0           0      1      1      0      1  \n",
       "4    3826       9       1           0           0      1      0      0      1  "
      ]
     },
     "execution_count": 8,
     "metadata": {},
     "output_type": "execute_result"
    }
   ],
   "source": [
    "set_a.head()"
   ]
  },
  {
   "cell_type": "code",
   "execution_count": 9,
   "metadata": {},
   "outputs": [
    {
     "data": {
      "text/plain": [
       "11"
      ]
     },
     "execution_count": 9,
     "metadata": {},
     "output_type": "execute_result"
    }
   ],
   "source": [
    "gc.collect()"
   ]
  },
  {
   "cell_type": "code",
   "execution_count": 10,
   "metadata": {},
   "outputs": [],
   "source": [
    "#Converting the pandas dataframes to numpy matrices\n",
    "set_a_np = set_a.values\n",
    "set_b_np = set_b.values"
   ]
  },
  {
   "cell_type": "markdown",
   "metadata": {},
   "source": [
    "Splitting the data into training and testing data sets."
   ]
  },
  {
   "cell_type": "code",
   "execution_count": 11,
   "metadata": {},
   "outputs": [],
   "source": [
    "x_tr, x_te, y_tr, y_te = train_test_split(set_a_np, y, test_size=0.2, random_state=42)"
   ]
  },
  {
   "cell_type": "code",
   "execution_count": 12,
   "metadata": {},
   "outputs": [
    {
     "name": "stdout",
     "output_type": "stream",
     "text": [
      "The length of the test set is 18937\n",
      "\n",
      "**************************************************\n",
      "\n",
      "The length of the training set is 75745\n"
     ]
    }
   ],
   "source": [
    "print(\"The length of the test set is %s\" % (len(x_te)))\n",
    "print(\"\\n\"+\"*\"*50+\"\\n\")\n",
    "print(\"The length of the training set is %s\" % (len(x_tr)))"
   ]
  },
  {
   "cell_type": "code",
   "execution_count": 13,
   "metadata": {},
   "outputs": [],
   "source": [
    "#normalizing the values\n",
    "y_scaler = preprocessing.MinMaxScaler()\n",
    "x_scaler = preprocessing.MinMaxScaler()\n",
    "\n",
    "x_tr = x_scaler.fit_transform(x_tr)\n",
    "\n",
    "x_tr = np.concatenate((np.ones((75745,1), dtype=float), x_tr), axis=1)\n",
    "x_te = np.concatenate((np.ones((18937,1), dtype=float), x_te), axis=1)"
   ]
  },
  {
   "cell_type": "markdown",
   "metadata": {},
   "source": [
    "The functions for the logistic regression classifier."
   ]
  },
  {
   "cell_type": "code",
   "execution_count": 14,
   "metadata": {},
   "outputs": [],
   "source": [
    "def sigmoid(z):\n",
    "    y_hat = (1.0 / (1+np.exp(-Z)))\n",
    "    return y_hat\n",
    "\n",
    "def logistic_loss(y, y_hat):\n",
    "    return -np.mean(y* np.log(y_hat) + (1-y) * np.log(1 - y_hat))\n",
    "\n",
    "def mini_batch_gradient_descent(x, y, w, learning_rate, epochs, batch_size):\n",
    "    m = len(y)\n",
    "    cost_history = np.zeros(epochs)\n",
    "    num_batches = int(m / batch_size)\n",
    "    \n",
    "    for it in range(0, epochs):\n",
    "        cost = 0.0\n",
    "        for i in range(0, m, batch_size):\n",
    "            x_b = x[i:i+batch_size]\n",
    "            y_b = y[i:i+batch_size]\n",
    "            z = np.dot(x_b, w)\n",
    "            y_hat = sigmoid(z)\n",
    "            difference = y_b - y_hat\n",
    "            gradient = np.dot(x_b.T, difference) * 1/m\n",
    "            w -= learning_rate*gradient\n",
    "            cost += logistic_loss(y_b, y_hat)\n",
    "        cost_history[it] = cost\n",
    "    \n",
    "    return w\n",
    "\n",
    "def predictive_labels(x, w):\n",
    "    z = np.dot(x,w)\n",
    "    predictive_prob = sigmoid(z)\n",
    "    predictive_values = np.where(predictive_prob >= 0.98, 0, 1)\n",
    "    return predictive_values\n",
    "\n",
    "def confusion_matrix_statistics(tp, fp, tn, fn):\n",
    "    accuracy = (tp + tn) / (tp + tn + fp + fn)\n",
    "    print(\"The accuracy of the model is %s\" %(accuracy))\n",
    "    precision = tp / (tp + fp)\n",
    "    print(\"The precision of the model is %s\" %(precision))\n",
    "    recall = tp / (tp + fn)\n",
    "    print(\"The recall of the model is %s\" %(recall))\n",
    "    f1Score = 2 * ((recall * precision) / (recall + precision))\n",
    "    print(\"The F1 score of the model is %s\" %(f1Score))"
   ]
  },
  {
   "cell_type": "markdown",
   "metadata": {},
   "source": [
    "10-fold Cross Validation, run multiple times with different hyper perameters. The confusion matrix its statistics are shown in order to evaluate the different hyper perameters and how they performed."
   ]
  },
  {
   "cell_type": "code",
   "execution_count": 15,
   "metadata": {},
   "outputs": [
    {
     "name": "stdout",
     "output_type": "stream",
     "text": [
      "The accuracy of the model is 0.2263752383746516\n",
      "The precision of the model is 0.02445046784494282\n",
      "The recall of the model is 0.873342175066313\n",
      "The F1 score of the model is 0.04756916853283248\n",
      "\n",
      "\n",
      "The accuracy of the model is 0.2654100044007628\n",
      "The precision of the model is 0.02475635054209558\n",
      "The recall of the model is 0.8383035122597747\n",
      "The F1 score of the model is 0.048092459178436325\n",
      "\n",
      "\n",
      "The accuracy of the model is 0.3291623881472789\n",
      "The precision of the model is 0.026162853037678797\n",
      "The recall of the model is 0.7922077922077922\n",
      "The F1 score of the model is 0.050652882439642104\n",
      "\n",
      "\n",
      "The accuracy of the model is 0.4202875165028605\n",
      "The precision of the model is 0.027142785995318493\n",
      "The recall of the model is 0.7073329007138222\n",
      "The F1 score of the model is 0.05227943116141874\n",
      "\n",
      "\n",
      "The accuracy of the model is 0.5340765732727006\n",
      "The precision of the model is 0.028762854471798067\n",
      "The recall of the model is 0.6080368906455863\n",
      "The F1 score of the model is 0.05492739823851464\n",
      "\n",
      "\n",
      "The accuracy of the model is 0.6561147702102067\n",
      "The precision of the model is 0.03053271668379582\n",
      "The recall of the model is 0.47000659195781147\n",
      "The F1 score of the model is 0.057340464031525186\n",
      "\n",
      "\n",
      "The accuracy of the model is 0.7705035865690689\n",
      "The precision of the model is 0.034757947500329775\n",
      "The recall of the model is 0.3428757319453481\n",
      "The F1 score of the model is 0.06311755194921852\n",
      "\n",
      "\n",
      "The accuracy of the model is 0.8634023265024717\n",
      "The precision of the model is 0.03508771929824561\n",
      "The recall of the model is 0.1932938856015779\n",
      "The F1 score of the model is 0.05939393939393939\n",
      "\n",
      "\n",
      "The accuracy of the model is 0.9246013700840533\n",
      "The precision of the model is 0.034271099744245526\n",
      "The recall of the model is 0.08945260347129506\n",
      "The F1 score of the model is 0.04955621301775148\n",
      "\n",
      "\n",
      "The accuracy of the model is 0.9573132270320224\n",
      "The precision of the model is 0.03441295546558704\n",
      "The recall of the model is 0.03333333333333333\n",
      "The F1 score of the model is 0.03386454183266932\n",
      "\n",
      "\n"
     ]
    }
   ],
   "source": [
    "epochs = 1\n",
    "learning_rate = 0.01\n",
    "batch_size = 4\n",
    "w = np.random.rand(20, 1)\n",
    "\n",
    "kf = KFold(n_splits = 10)\n",
    "for train, test in kf.split(x_tr):\n",
    "    k_x_tr, k_x_te = x_tr[train], x_tr[test] \n",
    "    k_y_tr, k_y_te = y_tr[train], y_tr[test]\n",
    "    w_values = mini_batch_gradient_descent(k_x_tr, k_y_tr, w, learning_rate, epochs, batch_size)\n",
    "    y_pred = predictive_labels(k_x_tr, w_values)\n",
    "    tn, fp, fn, tp = confusion_matrix(k_y_tr, y_pred).ravel()\n",
    "    confusion_matrix_statistics(tp, fp, tn, fn)\n",
    "    batch_size = batch_size * 2\n",
    "    learning_rate = learning_rate + 0.01\n",
    "    print(\"\\n\")"
   ]
  },
  {
   "cell_type": "markdown",
   "metadata": {},
   "source": [
    "Training the logistic linear regression on the entire training set."
   ]
  },
  {
   "cell_type": "code",
   "execution_count": 16,
   "metadata": {},
   "outputs": [],
   "source": [
    "epochs = 1\n",
    "learning_rate = 0.01\n",
    "batch_size = 4\n",
    "w = np.random.rand(20, 1)\n",
    "\n",
    "w_values_test = mini_batch_gradient_descent(x_tr, y_tr, w, learning_rate, epochs, batch_size)"
   ]
  },
  {
   "cell_type": "code",
   "execution_count": 17,
   "metadata": {},
   "outputs": [],
   "source": [
    "y_pred_tr = predictive_labels(x_tr, w_values_test)"
   ]
  },
  {
   "cell_type": "code",
   "execution_count": 18,
   "metadata": {},
   "outputs": [
    {
     "data": {
      "text/plain": [
       "array([[ 1085, 72969],\n",
       "       [   15,  1676]], dtype=int64)"
      ]
     },
     "execution_count": 18,
     "metadata": {},
     "output_type": "execute_result"
    }
   ],
   "source": [
    "confusion_matrix(y_tr, y_pred_tr)"
   ]
  },
  {
   "cell_type": "code",
   "execution_count": 19,
   "metadata": {},
   "outputs": [
    {
     "name": "stdout",
     "output_type": "stream",
     "text": [
      "The accuracy of the model is 0.03645125090765067\n",
      "The precision of the model is 0.022452943934623885\n",
      "The recall of the model is 0.9911295091661738\n",
      "The F1 score of the model is 0.043911129742192405\n"
     ]
    }
   ],
   "source": [
    "tn, fp, fn, tp = confusion_matrix(y_tr, y_pred_tr).ravel()\n",
    "confusion_matrix_statistics(tp, fp, tn, fn)"
   ]
  },
  {
   "cell_type": "code",
   "execution_count": 20,
   "metadata": {},
   "outputs": [
    {
     "name": "stdout",
     "output_type": "stream",
     "text": [
      "The AUC score is 0.5028904898573463\n"
     ]
    }
   ],
   "source": [
    "the_auc = roc_auc_score(y_tr, y_pred_tr)\n",
    "print(\"The AUC score is %s\" %the_auc)"
   ]
  },
  {
   "cell_type": "code",
   "execution_count": 21,
   "metadata": {},
   "outputs": [],
   "source": [
    "fpr, tpr, thresholds = roc_curve(y_tr, y_pred_tr)"
   ]
  },
  {
   "cell_type": "code",
   "execution_count": 22,
   "metadata": {},
   "outputs": [
    {
     "data": {
      "image/png": "[encoded data removed]",
      "text/plain": [
       "<Figure size 432x288 with 1 Axes>"
      ]
     },
     "metadata": {
      "needs_background": "light"
     },
     "output_type": "display_data"
    }
   ],
   "source": [
    "plt.title('Receiver Operating Characteristic')\n",
    "plt.plot(fpr, tpr, 'b', label = 'AUC = %0.2f' % the_auc)\n",
    "plt.legend(loc = 'lower right')\n",
    "plt.plot([0, 1], [0, 1],'r--')\n",
    "plt.xlim([0, 1])\n",
    "plt.ylim([0, 1])\n",
    "plt.ylabel('True Positive Rate')\n",
    "plt.xlabel('False Positive Rate')\n",
    "plt.show()"
   ]
  },
  {
   "cell_type": "markdown",
   "metadata": {},
   "source": [
    "Testing the logistic regression on the test data set."
   ]
  },
  {
   "cell_type": "code",
   "execution_count": 23,
   "metadata": {},
   "outputs": [],
   "source": [
    "y_pred_te = predictive_labels(x_te, w_values_test)"
   ]
  },
  {
   "cell_type": "code",
   "execution_count": 24,
   "metadata": {},
   "outputs": [
    {
     "data": {
      "text/plain": [
       "array([[17094,  1440],\n",
       "       [  326,    77]], dtype=int64)"
      ]
     },
     "execution_count": 24,
     "metadata": {},
     "output_type": "execute_result"
    }
   ],
   "source": [
    "confusion_matrix(y_te, y_pred_te)"
   ]
  },
  {
   "cell_type": "code",
   "execution_count": 25,
   "metadata": {},
   "outputs": [
    {
     "name": "stdout",
     "output_type": "stream",
     "text": [
      "The accuracy of the model is 0.9067434123673233\n",
      "The precision of the model is 0.05075807514831905\n",
      "The recall of the model is 0.19106699751861042\n",
      "The F1 score of the model is 0.08020833333333333\n"
     ]
    }
   ],
   "source": [
    "tn, fp, fn, tp = confusion_matrix(y_te, y_pred_te).ravel()\n",
    "confusion_matrix_statistics(tp, fp, tn, fn)"
   ]
  },
  {
   "cell_type": "code",
   "execution_count": 26,
   "metadata": {},
   "outputs": [
    {
     "name": "stdout",
     "output_type": "stream",
     "text": [
      "The AUC score is 0.5566859752889264\n"
     ]
    }
   ],
   "source": [
    "the_auc = roc_auc_score(y_te, y_pred_te)\n",
    "print(\"The AUC score is %s\" %the_auc)"
   ]
  },
  {
   "cell_type": "code",
   "execution_count": 27,
   "metadata": {},
   "outputs": [],
   "source": [
    "fpr, tpr, thresholds = roc_curve(y_te, y_pred_te)"
   ]
  },
  {
   "cell_type": "code",
   "execution_count": 28,
   "metadata": {},
   "outputs": [
    {
     "data": {
      "image/png": "[encoded data removed]",
      "text/plain": [
       "<Figure size 432x288 with 1 Axes>"
      ]
     },
     "metadata": {
      "needs_background": "light"
     },
     "output_type": "display_data"
    }
   ],
   "source": [
    "plt.title('Receiver Operating Characteristic')\n",
    "plt.plot(fpr, tpr, 'b', label = 'AUC = %0.2f' % the_auc)\n",
    "plt.legend(loc = 'lower right')\n",
    "plt.plot([0, 1], [0, 1],'r--')\n",
    "plt.xlim([0, 1])\n",
    "plt.ylim([0, 1])\n",
    "plt.ylabel('True Positive Rate')\n",
    "plt.xlabel('False Positive Rate')\n",
    "plt.show()"
   ]
  },
  {
   "cell_type": "markdown",
   "metadata": {},
   "source": [
    "My classifier is showing signs of underfitting. It is not predicting the training or the test data particularly well. The only positive is that my classifier performed similarly on both the testing and training data, but once again it is not doing a good job classifying either set of data. At this point I do not have a solution for this problem as I have attempted to tweak the hyper-perameters of my classifier and the algorithm itself, but have had no luck in doing so."
   ]
  },
  {
   "cell_type": "markdown",
   "metadata": {},
   "source": [
    "Because the data is very skewed towards the non-fraudulent class label, I refitted the data. I used a strategy called undersampling, in which an equal number of samples of both labels are taken and put into a new data set. I then run the logistic regression classifier on this more evenly skewed data-set, albeit with many less samples. This same data set will be used for the naive bayes (NB) and kNN classifier."
   ]
  },
  {
   "cell_type": "code",
   "execution_count": 29,
   "metadata": {},
   "outputs": [
    {
     "name": "stderr",
     "output_type": "stream",
     "text": [
      "C:\\Users\\steph\\Anaconda3\\lib\\site-packages\\pandas\\core\\indexes\\base.py:3772: RuntimeWarning: '<' not supported between instances of 'str' and 'int', sort order is undefined for incomparable objects\n",
      "  return this.join(other, how=how, return_indexers=return_indexers)\n"
     ]
    }
   ],
   "source": [
    "the_set_a = set_a.add(class_labels_a, fill_value = 0)\n",
    "the_set_a = the_set_a.rename(columns={the_set_a.columns[-1]: \"label\" })\n",
    "num_frauds = len(the_set_a[the_set_a['label'] == 1])\n",
    "non_f_indices = the_set_a[the_set_a.label == 0].index\n",
    "random_indices = np.random.choice(non_f_indices,num_frauds, replace=False)\n",
    "fraud_indices = the_set_a[the_set_a.label == 1].index\n",
    "under_sampled_indices = np.concatenate([fraud_indices,random_indices])\n",
    "under_sampled_data = the_set_a.loc[under_sampled_indices]\n",
    "usd_np = under_sampled_data.values\n",
    "np.random.shuffle(usd_np)\n",
    "y_us = usd_np[:, -1] \n",
    "x_us = usd_np[:, :-1] "
   ]
  },
  {
   "cell_type": "code",
   "execution_count": 30,
   "metadata": {},
   "outputs": [],
   "source": [
    "y_us = y_us.reshape((y_us.shape[0], 1))\n",
    "x_us_tr, x_us_te, y_us_tr, y_us_te = train_test_split(x_us, y_us, test_size=0.2, random_state=42)\n",
    "x_us_tr = x_scaler.fit_transform(x_us_tr)\n",
    "x_us_tr = np.concatenate((np.ones((3350,1), dtype=float), x_us_tr), axis=1)\n",
    "x_us_te = np.concatenate((np.ones((838,1), dtype=float), x_us_te), axis=1)"
   ]
  },
  {
   "cell_type": "code",
   "execution_count": 31,
   "metadata": {},
   "outputs": [
    {
     "name": "stdout",
     "output_type": "stream",
     "text": [
      "The accuracy of the model is 0.538971807628524\n",
      "The precision of the model is 0.5177009579341941\n",
      "The recall of the model is 0.8427118644067797\n",
      "The F1 score of the model is 0.6413828689370485\n",
      "\n",
      "\n",
      "The accuracy of the model is 0.5446102819237147\n",
      "The precision of the model is 0.5258294834103318\n",
      "The recall of the model is 0.8368983957219251\n",
      "The F1 score of the model is 0.6458602011864844\n",
      "\n",
      "\n",
      "The accuracy of the model is 0.547927031509121\n",
      "The precision of the model is 0.5303285593934288\n",
      "The recall of the model is 0.8354346383543464\n",
      "The F1 score of the model is 0.6488018551919609\n",
      "\n",
      "\n",
      "The accuracy of the model is 0.5485903814262023\n",
      "The precision of the model is 0.5294616362865621\n",
      "The recall of the model is 0.8326666666666667\n",
      "The F1 score of the model is 0.6473179580202124\n",
      "\n",
      "\n",
      "The accuracy of the model is 0.547927031509121\n",
      "The precision of the model is 0.5282617934551637\n",
      "The recall of the model is 0.8308823529411765\n",
      "The F1 score of the model is 0.6458820472850092\n",
      "\n",
      "\n",
      "The accuracy of the model is 0.547927031509121\n",
      "The precision of the model is 0.5299145299145299\n",
      "The recall of the model is 0.825016633399867\n",
      "The F1 score of the model is 0.6453291699193339\n",
      "\n",
      "\n",
      "The accuracy of the model is 0.5439469320066335\n",
      "The precision of the model is 0.5248165731549418\n",
      "The recall of the model is 0.8161073825503355\n",
      "The F1 score of the model is 0.6388232203835041\n",
      "\n",
      "\n",
      "The accuracy of the model is 0.5538971807628524\n",
      "The precision of the model is 0.5376578145407053\n",
      "The recall of the model is 0.813570487483531\n",
      "The F1 score of the model is 0.6474442988204457\n",
      "\n",
      "\n",
      "The accuracy of the model is 0.5592039800995025\n",
      "The precision of the model is 0.5387323943661971\n",
      "The recall of the model is 0.8132890365448505\n",
      "The F1 score of the model is 0.64813343923749\n",
      "\n",
      "\n",
      "The accuracy of the model is 0.5558872305140962\n",
      "The precision of the model is 0.5350719424460432\n",
      "The recall of the model is 0.7959866220735786\n",
      "The F1 score of the model is 0.6399569776821726\n",
      "\n",
      "\n"
     ]
    }
   ],
   "source": [
    "epochs = 1\n",
    "learning_rate = 0.001\n",
    "batch_size = 16\n",
    "w = np.random.rand(20, 1)\n",
    "\n",
    "kf = KFold(n_splits = 10)\n",
    "for train, test in kf.split(x_us_tr):\n",
    "    k_x_tr, k_x_te = x_us_tr[train], x_us_tr[test] \n",
    "    k_y_tr, k_y_te = y_us_tr[train], y_us_tr[test]\n",
    "    w_values = mini_batch_gradient_descent(k_x_tr, k_y_tr, w, learning_rate, epochs, batch_size)\n",
    "    y_pred = predictive_labels(k_x_tr, w_values)\n",
    "    tn, fp, fn, tp = confusion_matrix(k_y_tr, y_pred).ravel()\n",
    "    confusion_matrix_statistics(tp, fp, tn, fn)\n",
    "    batch_size = batch_size * 2\n",
    "    learning_rate = learning_rate + 0.001\n",
    "    print(\"\\n\")"
   ]
  },
  {
   "cell_type": "code",
   "execution_count": 32,
   "metadata": {},
   "outputs": [
    {
     "name": "stdout",
     "output_type": "stream",
     "text": [
      "The accuracy of the model is 0.5050746268656716\n",
      "The precision of the model is 0.5010961478233636\n",
      "The recall of the model is 0.960960960960961\n",
      "The F1 score of the model is 0.6587072869493619\n",
      "The AUC score is 0.5077801837445755\n"
     ]
    },
    {
     "data": {
      "image/png": "[encoded data removed]",
      "text/plain": [
       "<Figure size 432x288 with 1 Axes>"
      ]
     },
     "metadata": {
      "needs_background": "light"
     },
     "output_type": "display_data"
    }
   ],
   "source": [
    "epochs = 1\n",
    "learning_rate = 0.12\n",
    "batch_size = 32\n",
    "w = np.random.rand(20, 1)\n",
    "w_values_test_us = mini_batch_gradient_descent(x_us_tr, y_us_tr, w, learning_rate, epochs, batch_size)\n",
    "y_us_pre_tr = predictive_labels(x_us_tr, w_values_test_us)\n",
    "\n",
    "confusion_matrix(y_us_tr, y_us_pred_tr)\n",
    "tn, fp, fn, tp = confusion_matrix(y_us_tr, y_us_pred_tr).ravel()\n",
    "confusion_matrix_statistics(tp, fp, tn, fn)\n",
    "\n",
    "the_auc = roc_auc_score(y_us_tr, y_us_pred_tr)\n",
    "print(\"The AUC score is %s\" %the_auc)\n",
    "fpr, tpr, thresholds = roc_curve(y_us_tr, y_us_pred_tr)\n",
    "plt.title('Receiver Operating Characteristic')\n",
    "plt.plot(fpr, tpr, 'b', label = 'AUC = %0.2f' % the_auc)\n",
    "plt.legend(loc = 'lower right')\n",
    "plt.plot([0, 1], [0, 1],'r--')\n",
    "plt.xlim([0, 1])\n",
    "plt.ylim([0, 1])\n",
    "plt.ylabel('True Positive Rate')\n",
    "plt.xlabel('False Positive Rate')\n",
    "plt.show()"
   ]
  },
  {
   "cell_type": "code",
   "execution_count": 33,
   "metadata": {},
   "outputs": [
    {
     "name": "stdout",
     "output_type": "stream",
     "text": [
      "The accuracy of the model is 0.5322195704057279\n",
      "The precision of the model is 0.6504065040650406\n",
      "The recall of the model is 0.1864801864801865\n",
      "The F1 score of the model is 0.2898550724637681\n",
      "The AUC score is 0.540672856076279\n"
     ]
    },
    {
     "data": {
      "image/png": "[encoded data removed]",
      "text/plain": [
       "<Figure size 432x288 with 1 Axes>"
      ]
     },
     "metadata": {
      "needs_background": "light"
     },
     "output_type": "display_data"
    }
   ],
   "source": [
    "y_us_pred_te = predictive_labels(x_us_te, w_values_test_us)\n",
    "tn, fp, fn, tp = confusion_matrix(y_us_te, y_us_pred_te).ravel()\n",
    "confusion_matrix_statistics(tp, fp, tn, fn)\n",
    "\n",
    "the_auc = roc_auc_score(y_us_te, y_us_pred_te)\n",
    "print(\"The AUC score is %s\" %the_auc)\n",
    "fpr, tpr, thresholds = roc_curve(y_us_te, y_us_pred_te)\n",
    "plt.title('Receiver Operating Characteristic')\n",
    "plt.plot(fpr, tpr, 'b', label = 'AUC = %0.2f' % the_auc)\n",
    "plt.legend(loc = 'lower right')\n",
    "plt.plot([0, 1], [0, 1],'r--')\n",
    "plt.xlim([0, 1])\n",
    "plt.ylim([0, 1])\n",
    "plt.ylabel('True Positive Rate')\n",
    "plt.xlabel('False Positive Rate')\n",
    "plt.show()"
   ]
  },
  {
   "cell_type": "code",
   "execution_count": 34,
   "metadata": {},
   "outputs": [
    {
     "data": {
      "text/plain": [
       "array([[366,  43],\n",
       "       [349,  80]], dtype=int64)"
      ]
     },
     "execution_count": 34,
     "metadata": {},
     "output_type": "execute_result"
    }
   ],
   "source": [
    "confusion_matrix(y_us_te, y_us_pred_te)"
   ]
  },
  {
   "cell_type": "markdown",
   "metadata": {},
   "source": [
    "The logistic regression classifier once again is not predicting the class labels very well. The F1-Score, precision, and recall scores are much better compared to the original data set. But it is still making many false negative and false positive predictions. It is under-fitting the training data, and not performing well on the test data."
   ]
  },
  {
   "cell_type": "markdown",
   "metadata": {},
   "source": [
    "Preparing the data set for the bayesian classifier. This means adding the labels into the dataset so that the probabilities, means, and standard deviations for the different labels can be calculated."
   ]
  },
  {
   "cell_type": "code",
   "execution_count": 35,
   "metadata": {},
   "outputs": [
    {
     "name": "stderr",
     "output_type": "stream",
     "text": [
      "C:\\Users\\steph\\Anaconda3\\lib\\site-packages\\pandas\\core\\indexes\\base.py:3772: RuntimeWarning: '<' not supported between instances of 'str' and 'int', sort order is undefined for incomparable objects\n",
      "  return this.join(other, how=how, return_indexers=return_indexers)\n"
     ]
    }
   ],
   "source": [
    "the_set_a = set_a.add(class_labels_a, fill_value = 0)"
   ]
  },
  {
   "cell_type": "code",
   "execution_count": 36,
   "metadata": {},
   "outputs": [
    {
     "data": {
      "text/plain": [
       "Index(['amount', 'hour1', 'state1', 'zip1', 'field1', 'domain1', 'field2',\n",
       "       'hour2', 'flag1', 'total', 'field3', 'field4', 'field5', 'indicator1',\n",
       "       'indicator2', 'flag2', 'flag3', 'flag4', 'flag5', 'label'],\n",
       "      dtype='object')"
      ]
     },
     "execution_count": 36,
     "metadata": {},
     "output_type": "execute_result"
    }
   ],
   "source": [
    "#Renaming the label column \n",
    "the_set_a = the_set_a.rename(columns={the_set_a.columns[-1]: \"label\"})\n",
    "the_set_a.columns"
   ]
  },
  {
   "cell_type": "markdown",
   "metadata": {},
   "source": [
    "Calculating the prioor probabilities, the means, and the standard deviations."
   ]
  },
  {
   "cell_type": "code",
   "execution_count": 37,
   "metadata": {},
   "outputs": [],
   "source": [
    "num_zero = the_set_a.label.value_counts()[0.0]\n",
    "num_one = the_set_a.label.value_counts()[1.0]\n",
    "total_labels = num_one + num_zero\n",
    "prior_zero = float(num_zero / total_labels)\n",
    "prior_one = float(num_one / total_labels)"
   ]
  },
  {
   "cell_type": "code",
   "execution_count": 38,
   "metadata": {},
   "outputs": [
    {
     "data": {
      "text/html": [
       "<div>\n",
       "<style scoped>\n",
       "    .dataframe tbody tr th:only-of-type {\n",
       "        vertical-align: middle;\n",
       "    }\n",
       "\n",
       "    .dataframe tbody tr th {\n",
       "        vertical-align: top;\n",
       "    }\n",
       "\n",
       "    .dataframe thead th {\n",
       "        text-align: right;\n",
       "    }\n",
       "</style>\n",
       "<table border=\"1\" class=\"dataframe\">\n",
       "  <thead>\n",
       "    <tr style=\"text-align: right;\">\n",
       "      <th></th>\n",
       "      <th>amount</th>\n",
       "      <th>hour1</th>\n",
       "      <th>state1</th>\n",
       "      <th>zip1</th>\n",
       "      <th>field1</th>\n",
       "      <th>domain1</th>\n",
       "      <th>field2</th>\n",
       "      <th>hour2</th>\n",
       "      <th>flag1</th>\n",
       "      <th>total</th>\n",
       "      <th>field3</th>\n",
       "      <th>field4</th>\n",
       "      <th>field5</th>\n",
       "      <th>indicator1</th>\n",
       "      <th>indicator2</th>\n",
       "      <th>flag2</th>\n",
       "      <th>flag3</th>\n",
       "      <th>flag4</th>\n",
       "      <th>flag5</th>\n",
       "    </tr>\n",
       "    <tr>\n",
       "      <th>label</th>\n",
       "      <th></th>\n",
       "      <th></th>\n",
       "      <th></th>\n",
       "      <th></th>\n",
       "      <th></th>\n",
       "      <th></th>\n",
       "      <th></th>\n",
       "      <th></th>\n",
       "      <th></th>\n",
       "      <th></th>\n",
       "      <th></th>\n",
       "      <th></th>\n",
       "      <th></th>\n",
       "      <th></th>\n",
       "      <th></th>\n",
       "      <th></th>\n",
       "      <th></th>\n",
       "      <th></th>\n",
       "      <th></th>\n",
       "    </tr>\n",
       "  </thead>\n",
       "  <tbody>\n",
       "    <tr>\n",
       "      <th>0.0</th>\n",
       "      <td>200.488337</td>\n",
       "      <td>26.875313</td>\n",
       "      <td>238.390732</td>\n",
       "      <td>99620.251220</td>\n",
       "      <td>0.993762</td>\n",
       "      <td>1.102034e+07</td>\n",
       "      <td>0.244507</td>\n",
       "      <td>26.827692</td>\n",
       "      <td>0.247617</td>\n",
       "      <td>200.697318</td>\n",
       "      <td>1.503151e+07</td>\n",
       "      <td>42.619951</td>\n",
       "      <td>5.855711</td>\n",
       "      <td>0.099810</td>\n",
       "      <td>0.017972</td>\n",
       "      <td>0.248359</td>\n",
       "      <td>0.239052</td>\n",
       "      <td>0.018689</td>\n",
       "      <td>8161.196094</td>\n",
       "    </tr>\n",
       "    <tr>\n",
       "      <th>1.0</th>\n",
       "      <td>235.412060</td>\n",
       "      <td>31.665050</td>\n",
       "      <td>244.676518</td>\n",
       "      <td>90051.960902</td>\n",
       "      <td>1.233089</td>\n",
       "      <td>1.226922e+07</td>\n",
       "      <td>0.242395</td>\n",
       "      <td>32.038526</td>\n",
       "      <td>0.248904</td>\n",
       "      <td>236.668340</td>\n",
       "      <td>2.694613e+07</td>\n",
       "      <td>29.596248</td>\n",
       "      <td>6.612684</td>\n",
       "      <td>0.128196</td>\n",
       "      <td>0.020581</td>\n",
       "      <td>0.245647</td>\n",
       "      <td>0.224818</td>\n",
       "      <td>0.053625</td>\n",
       "      <td>115734.635751</td>\n",
       "    </tr>\n",
       "  </tbody>\n",
       "</table>\n",
       "</div>"
      ],
      "text/plain": [
       "           amount      hour1      state1          zip1    field1  \\\n",
       "label                                                              \n",
       "0.0    200.488337  26.875313  238.390732  99620.251220  0.993762   \n",
       "1.0    235.412060  31.665050  244.676518  90051.960902  1.233089   \n",
       "\n",
       "            domain1    field2      hour2     flag1       total        field3  \\\n",
       "label                                                                          \n",
       "0.0    1.102034e+07  0.244507  26.827692  0.247617  200.697318  1.503151e+07   \n",
       "1.0    1.226922e+07  0.242395  32.038526  0.248904  236.668340  2.694613e+07   \n",
       "\n",
       "          field4    field5  indicator1  indicator2     flag2     flag3  \\\n",
       "label                                                                    \n",
       "0.0    42.619951  5.855711    0.099810    0.017972  0.248359  0.239052   \n",
       "1.0    29.596248  6.612684    0.128196    0.020581  0.245647  0.224818   \n",
       "\n",
       "          flag4          flag5  \n",
       "label                           \n",
       "0.0    0.018689    8161.196094  \n",
       "1.0    0.053625  115734.635751  "
      ]
     },
     "execution_count": 38,
     "metadata": {},
     "output_type": "execute_result"
    }
   ],
   "source": [
    "data_variance = the_set_a.groupby(['label']).var()\n",
    "data_variance"
   ]
  },
  {
   "cell_type": "code",
   "execution_count": 39,
   "metadata": {},
   "outputs": [
    {
     "data": {
      "text/html": [
       "<div>\n",
       "<style scoped>\n",
       "    .dataframe tbody tr th:only-of-type {\n",
       "        vertical-align: middle;\n",
       "    }\n",
       "\n",
       "    .dataframe tbody tr th {\n",
       "        vertical-align: top;\n",
       "    }\n",
       "\n",
       "    .dataframe thead th {\n",
       "        text-align: right;\n",
       "    }\n",
       "</style>\n",
       "<table border=\"1\" class=\"dataframe\">\n",
       "  <thead>\n",
       "    <tr style=\"text-align: right;\">\n",
       "      <th></th>\n",
       "      <th>amount</th>\n",
       "      <th>hour1</th>\n",
       "      <th>state1</th>\n",
       "      <th>zip1</th>\n",
       "      <th>field1</th>\n",
       "      <th>domain1</th>\n",
       "      <th>field2</th>\n",
       "      <th>hour2</th>\n",
       "      <th>flag1</th>\n",
       "      <th>total</th>\n",
       "      <th>field3</th>\n",
       "      <th>field4</th>\n",
       "      <th>field5</th>\n",
       "      <th>indicator1</th>\n",
       "      <th>indicator2</th>\n",
       "      <th>flag2</th>\n",
       "      <th>flag3</th>\n",
       "      <th>flag4</th>\n",
       "      <th>flag5</th>\n",
       "    </tr>\n",
       "    <tr>\n",
       "      <th>label</th>\n",
       "      <th></th>\n",
       "      <th></th>\n",
       "      <th></th>\n",
       "      <th></th>\n",
       "      <th></th>\n",
       "      <th></th>\n",
       "      <th></th>\n",
       "      <th></th>\n",
       "      <th></th>\n",
       "      <th></th>\n",
       "      <th></th>\n",
       "      <th></th>\n",
       "      <th></th>\n",
       "      <th></th>\n",
       "      <th></th>\n",
       "      <th></th>\n",
       "      <th></th>\n",
       "      <th></th>\n",
       "      <th></th>\n",
       "    </tr>\n",
       "  </thead>\n",
       "  <tbody>\n",
       "    <tr>\n",
       "      <th>0.0</th>\n",
       "      <td>25.685556</td>\n",
       "      <td>13.992396</td>\n",
       "      <td>22.750378</td>\n",
       "      <td>542.149425</td>\n",
       "      <td>2.405344</td>\n",
       "      <td>4047.396034</td>\n",
       "      <td>0.425865</td>\n",
       "      <td>14.002355</td>\n",
       "      <td>0.548840</td>\n",
       "      <td>25.677056</td>\n",
       "      <td>753.257236</td>\n",
       "      <td>14.039930</td>\n",
       "      <td>1.367305</td>\n",
       "      <td>0.112455</td>\n",
       "      <td>0.018307</td>\n",
       "      <td>0.540545</td>\n",
       "      <td>0.395354</td>\n",
       "      <td>0.019052</td>\n",
       "      <td>4.961928</td>\n",
       "    </tr>\n",
       "    <tr>\n",
       "      <th>1.0</th>\n",
       "      <td>23.413720</td>\n",
       "      <td>8.219675</td>\n",
       "      <td>20.995224</td>\n",
       "      <td>591.629895</td>\n",
       "      <td>3.031996</td>\n",
       "      <td>3930.396371</td>\n",
       "      <td>0.412130</td>\n",
       "      <td>8.282713</td>\n",
       "      <td>0.465138</td>\n",
       "      <td>23.376614</td>\n",
       "      <td>-998.612225</td>\n",
       "      <td>11.516237</td>\n",
       "      <td>1.746418</td>\n",
       "      <td>0.150907</td>\n",
       "      <td>0.021012</td>\n",
       "      <td>0.566858</td>\n",
       "      <td>0.659026</td>\n",
       "      <td>0.056829</td>\n",
       "      <td>59.887775</td>\n",
       "    </tr>\n",
       "  </tbody>\n",
       "</table>\n",
       "</div>"
      ],
      "text/plain": [
       "          amount      hour1     state1        zip1    field1      domain1  \\\n",
       "label                                                                       \n",
       "0.0    25.685556  13.992396  22.750378  542.149425  2.405344  4047.396034   \n",
       "1.0    23.413720   8.219675  20.995224  591.629895  3.031996  3930.396371   \n",
       "\n",
       "         field2      hour2     flag1      total      field3     field4  \\\n",
       "label                                                                    \n",
       "0.0    0.425865  14.002355  0.548840  25.677056  753.257236  14.039930   \n",
       "1.0    0.412130   8.282713  0.465138  23.376614 -998.612225  11.516237   \n",
       "\n",
       "         field5  indicator1  indicator2     flag2     flag3     flag4  \\\n",
       "label                                                                   \n",
       "0.0    1.367305    0.112455    0.018307  0.540545  0.395354  0.019052   \n",
       "1.0    1.746418    0.150907    0.021012  0.566858  0.659026  0.056829   \n",
       "\n",
       "           flag5  \n",
       "label             \n",
       "0.0     4.961928  \n",
       "1.0    59.887775  "
      ]
     },
     "execution_count": 39,
     "metadata": {},
     "output_type": "execute_result"
    }
   ],
   "source": [
    "data_means = the_set_a.groupby(['label']).mean()\n",
    "data_means"
   ]
  },
  {
   "cell_type": "code",
   "execution_count": 40,
   "metadata": {},
   "outputs": [],
   "source": [
    "zero_mean = data_means.iloc[0]\n",
    "one_mean = data_means.iloc[1]\n",
    "zero_dev = data_dariance.iloc[0]\n",
    "one_dev = data_variance.iloc[1]"
   ]
  },
  {
   "cell_type": "code",
   "execution_count": 41,
   "metadata": {},
   "outputs": [],
   "source": [
    "one_dev_np = one_dev.values\n",
    "one_mean_np = one_mean.values\n",
    "zero_dev_np = zero_dev.values\n",
    "zero_mean_np = zero_mean.values"
   ]
  },
  {
   "cell_type": "markdown",
   "metadata": {},
   "source": [
    "The functions necessary for computing the posterior probabilities using the Guassian method."
   ]
  },
  {
   "cell_type": "code",
   "execution_count": 42,
   "metadata": {},
   "outputs": [],
   "source": [
    "def guassian_probability_density_function(x, the_mean, the_variance):\n",
    "    m = len(x) \n",
    "    col = len(x[0]) \n",
    "    g_probability = np.zeros((len(x), len(x[0])))\n",
    "    for it in range(0, m):\n",
    "        for i in range(0, col):\n",
    "            g_probability[it][i] = 1/(np.sqrt(2*np.pi*the_variance[i])) * np.exp((-(x[it][i]-the_mean[i]**2)/(2*the_variance[i])))\n",
    "    return g_probability\n",
    "\n",
    "def the_probability(g_probabilities, prior):\n",
    "    m = len(g_probabilities) \n",
    "    col = len(g_probabilities[0]) \n",
    "    the_probability = np.full((len(g_probabilities), 1), prior)\n",
    "    for it in range(0, m):\n",
    "        for i in range(0, col):\n",
    "            the_probability[it] = the_probability[it] * g_probabilities[it][i]  \n",
    "    return the_probability\n",
    "\n",
    "def compare_probabilities(p_zeros, p_ones):\n",
    "    m = len(p_zeros) \n",
    "    the_predictions = np.full((len(p_peros), 1), 2)\n",
    "    for it in range (0, m):\n",
    "        if p_zeros[it] >= p_ones[it]:\n",
    "            the_predictions[it] = 0\n",
    "        else:\n",
    "            the_predictions[it] = 1\n",
    "    return the_predictions"
   ]
  },
  {
   "cell_type": "code",
   "execution_count": 43,
   "metadata": {},
   "outputs": [],
   "source": [
    "#Resetting the training sets to not include the labels\n",
    "x_tr, x_te, y_tr, y_te = train_test_split(set_a_np, y, test_size=0.2, random_state=42)"
   ]
  },
  {
   "cell_type": "markdown",
   "metadata": {},
   "source": [
    "Running the NB classifier on the 5-fold cross validation sets."
   ]
  },
  {
   "cell_type": "code",
   "execution_count": 44,
   "metadata": {},
   "outputs": [
    {
     "name": "stdout",
     "output_type": "stream",
     "text": [
      "The accuracy of the model is 0.960938015710608\n",
      "The precision of the model is 0.07301066447908121\n",
      "The recall of the model is 0.06711915535444947\n",
      "The F1 score of the model is 0.0699410609037328\n",
      "\n",
      "\n",
      "The accuracy of the model is 0.9596508020331375\n",
      "The precision of the model is 0.06296603148301574\n",
      "The recall of the model is 0.05467625899280575\n",
      "The F1 score of the model is 0.05852907200616095\n",
      "\n",
      "\n",
      "The accuracy of the model is 0.9605584527031488\n",
      "The precision of the model is 0.06422018348623854\n",
      "The recall of the model is 0.05724907063197026\n",
      "The F1 score of the model is 0.060534591194968554\n",
      "\n",
      "\n",
      "The accuracy of the model is 0.9601293814773252\n",
      "The precision of the model is 0.06611570247933884\n",
      "The recall of the model is 0.05856515373352855\n",
      "The F1 score of the model is 0.062111801242236024\n",
      "\n",
      "\n",
      "The accuracy of the model is 0.9604924417453298\n",
      "The precision of the model is 0.06430338004946413\n",
      "The recall of the model is 0.05833956619296934\n",
      "The F1 score of the model is 0.0611764705882353\n",
      "\n",
      "\n"
     ]
    }
   ],
   "source": [
    "kf = KFold(n_splits = 5)\n",
    "for train, test in kf.split(x_tr):\n",
    "    k_x_tr, k_x_te = x_tr[train], x_tr[test] \n",
    "    k_y_tr, k_y_te = y_tr[train], y_tr[test]\n",
    "    one_prob = guassian_probability_density_function(k_x_tr, one_mean_np, one_dev_np)\n",
    "    one_probability = the_probability(one_prob, prior_one)\n",
    "    zero_prob = guassian_probability_density_function(k_x_tr, zero_mean_np, zero_dev_np)\n",
    "    zero_probability = the_probability(zero_prob, prior_zero)\n",
    "    bayesian_pred = compare_probabilities(zero_probability, one_probability)\n",
    "    tn, fp, fn, tp = confusion_matrix(k_y_tr, bayesian_pred).ravel()\n",
    "    confusion_matrix_statistics(tp, fp, tn, fn)\n",
    "    print(\"\\n\")"
   ]
  },
  {
   "cell_type": "markdown",
   "metadata": {},
   "source": [
    "Running the NB classifier on the training data set."
   ]
  },
  {
   "cell_type": "code",
   "execution_count": 45,
   "metadata": {},
   "outputs": [
    {
     "name": "stdout",
     "output_type": "stream",
     "text": [
      "The accuracy of the model is 0.9603538187339098\n",
      "The precision of the model is 0.06613756613756613\n",
      "The recall of the model is 0.05913660555884092\n",
      "The F1 score of the model is 0.062441461130190445\n"
     ]
    }
   ],
   "source": [
    "one_prob = guassian_probability_density_function(x_tr, one_mean_np, one_dev_np)\n",
    "one_probability = the_probability(one_prob, prior_one)\n",
    "zero_prob = guassian_probability_density_function(x_tr, zero_mean_np, zero_dev_np)\n",
    "zero_probability = the_probability(zero_prob, prior_zero)\n",
    "bayesian_pred = compare_probabilities(zero_probability, one_probability)\n",
    "tn, fp, fn, tp = confusion_matrix(y_tr, bayesian_pred).ravel()\n",
    "confusion_matrix_statistics(tp, fp, tn, fn)"
   ]
  },
  {
   "cell_type": "code",
   "execution_count": 46,
   "metadata": {},
   "outputs": [
    {
     "name": "stdout",
     "output_type": "stream",
     "text": [
      "The AUC score is 0.5200347191782646\n",
      "\n",
      "\n"
     ]
    },
    {
     "data": {
      "image/png": "[encoded data removed]",
      "text/plain": [
       "<Figure size 432x288 with 1 Axes>"
      ]
     },
     "metadata": {
      "needs_background": "light"
     },
     "output_type": "display_data"
    }
   ],
   "source": [
    "the_auc = roc_auc_score(y_tr, bayesian_pred)\n",
    "print(\"The AUC score is %s\" %the_auc)\n",
    "print(\"\\n\")\n",
    "fpr, tpr, thresholds = roc_curve(y_tr, bayesian_pred)\n",
    "plt.title('Receiver Operating Characteristic')\n",
    "plt.plot(fpr, tpr, 'b', label = 'AUC = %0.2f' % the_auc)\n",
    "plt.legend(loc = 'lower right')\n",
    "plt.plot([0, 1], [0, 1],'r--')\n",
    "plt.xlim([0, 1])\n",
    "plt.ylim([0, 1])\n",
    "plt.ylabel('True Positive Rate')\n",
    "plt.xlabel('False Positive Rate')\n",
    "plt.show()"
   ]
  },
  {
   "cell_type": "markdown",
   "metadata": {},
   "source": [
    "Running the NB classifier on the test set, practically this means that the mean and standard deviations are the values used from the training set."
   ]
  },
  {
   "cell_type": "code",
   "execution_count": 47,
   "metadata": {},
   "outputs": [
    {
     "name": "stdout",
     "output_type": "stream",
     "text": [
      "The accuracy of the model is 0.961134287373924\n",
      "The precision of the model is 0.05121293800539083\n",
      "The recall of the model is 0.04714640198511166\n",
      "The F1 score of the model is 0.049095607235142114\n"
     ]
    }
   ],
   "source": [
    "one_prob = guassian_probability_density_function(x_te, one_mean_np, one_dev_np)\n",
    "one_probability = the_probability(one_prob, prior_one)\n",
    "zero_prob = guassian_probability_density_function(x_te, zero_mean_np, zero_dev_np)\n",
    "zero_probability = the_probability(zero_prob, prior_zero)\n",
    "bayesian_pred = compare_probabilities(zero_probability, one_probability)\n",
    "tn, fp, fn, tp = confusion_matrix(y_te, bayesian_pred).ravel()\n",
    "confusion_matrix_statistics(tp, fp, tn, fn)"
   ]
  },
  {
   "cell_type": "code",
   "execution_count": 48,
   "metadata": {},
   "outputs": [
    {
     "data": {
      "text/plain": [
       "array([[18182,   352],\n",
       "       [  384,    19]], dtype=int64)"
      ]
     },
     "execution_count": 48,
     "metadata": {},
     "output_type": "execute_result"
    }
   ],
   "source": [
    "confusion_matrix(y_te, bayesian_pred)"
   ]
  },
  {
   "cell_type": "code",
   "execution_count": 49,
   "metadata": {},
   "outputs": [
    {
     "name": "stdout",
     "output_type": "stream",
     "text": [
      "The AUC score is 0.5140771396997965\n",
      "\n",
      "\n"
     ]
    },
    {
     "data": {
      "image/png": "[encoded data removed]",
      "text/plain": [
       "<Figure size 432x288 with 1 Axes>"
      ]
     },
     "metadata": {
      "needs_background": "light"
     },
     "output_type": "display_data"
    }
   ],
   "source": [
    "the_auc = roc_auc_score(y_te, bayesian_pred)\n",
    "print(\"The AUC score is %s\" %the_auc)\n",
    "print(\"\\n\")\n",
    "fpr, tpr, thresholds = roc_curve(y_te, bayesian_pred)\n",
    "plt.title('Receiver Operating Characteristic')\n",
    "plt.plot(fpr, tpr, 'b', label = 'AUC = %0.2f' % the_auc)\n",
    "plt.legend(loc = 'lower right')\n",
    "plt.plot([0, 1], [0, 1],'r--')\n",
    "plt.xlim([0, 1])\n",
    "plt.ylim([0, 1])\n",
    "plt.ylabel('True Positive Rate')\n",
    "plt.xlabel('False Positive Rate')\n",
    "plt.show()"
   ]
  },
  {
   "cell_type": "markdown",
   "metadata": {},
   "source": [
    "The NB classifier is very similar to the logistic regression classifier in that the ex_treme amount of data that is labeled as \"0\" is impacting the classifiers ability to correctly classify the test samples. It seems to be massively under-fitting the training data. Because of this it seems that the data set is under fitting. I think that the biggest work around for this is that the data set needs to be adjusted in someway so that the volume of labeled \"0\" is not so high in comparison to the data that is labeled as \"1\". I explore this hypothesis by using the new data set that is under-sampled."
   ]
  },
  {
   "cell_type": "code",
   "execution_count": 50,
   "metadata": {},
   "outputs": [],
   "source": [
    "#Getting the data ready\n",
    "num_zero = under_sampled_data.label.value_counts()[0.0]\n",
    "num_one = under_sampled_data.label.value_counts()[1.0]\n",
    "total_labels = num_one + num_zero\n",
    "prior_zero = float(num_zero / total_labels)\n",
    "prior_one = float(num_one / total_labels)\n",
    "data_variance = under_sampled_data.groupby(['label']).var()\n",
    "data_means = under_sampled_data.groupby(['label']).mean()\n",
    "zero_mean = data_means.iloc[0]\n",
    "one_mean = data_means.iloc[1]\n",
    "zero_dev = data_variance.iloc[0]\n",
    "one_dev = data_variance.iloc[1]\n",
    "one_dev_np = one_dev.values\n",
    "one_mean_np = one_mean.values\n",
    "zero_dev_np = zero_dev.values\n",
    "zero_mean_np = zero_mean.values\n",
    "\n",
    "x_us_tr, x_us_te, y_us_tr, y_us_te = train_test_split(x_us, y_us, test_size=0.2, random_state=42)\n",
    "x_us_tr = x_scaler.fit_transform(x_us_tr)"
   ]
  },
  {
   "cell_type": "code",
   "execution_count": 51,
   "metadata": {},
   "outputs": [
    {
     "name": "stdout",
     "output_type": "stream",
     "text": [
      "The accuracy of the model is 0.5305970149253731\n",
      "The precision of the model is 0.75\n",
      "The recall of the model is 0.055130168453292494\n",
      "The F1 score of the model is 0.10271041369472181\n",
      "\n",
      "\n",
      "The accuracy of the model is 0.5164179104477612\n",
      "The precision of the model is 0.75\n",
      "The recall of the model is 0.05141579731743666\n",
      "The F1 score of the model is 0.09623430962343095\n",
      "\n",
      "\n",
      "The accuracy of the model is 0.5223880597014925\n",
      "The precision of the model is 0.7872340425531915\n",
      "The recall of the model is 0.05547226386806597\n",
      "The F1 score of the model is 0.10364145658263307\n",
      "\n",
      "\n",
      "The accuracy of the model is 0.5182835820895523\n",
      "The precision of the model is 0.7708333333333334\n",
      "The recall of the model is 0.055100521221146684\n",
      "The F1 score of the model is 0.10284920083391243\n",
      "\n",
      "\n",
      "The accuracy of the model is 0.5212686567164179\n",
      "The precision of the model is 0.7888888888888889\n",
      "The recall of the model is 0.05318352059925094\n",
      "The F1 score of the model is 0.09964912280701754\n",
      "\n",
      "\n"
     ]
    }
   ],
   "source": [
    "kf = KFold(n_splits = 5)\n",
    "for train, test in kf.split(x_us_tr):\n",
    "    k_x_tr, k_x_te = x_us_tr[train], x_us_tr[test] \n",
    "    k_y_tr, k_y_te = y_us_tr[train], y_us_tr[test]\n",
    "    one_prob = guassian_probability_density_function(k_x_tr, one_mean_np, one_dev_np)\n",
    "    one_probability = the_probability(one_prob, prior_one)\n",
    "    zero_prob = guassian_probability_density_function(k_x_tr, zero_mean_np, zero_dev_np)\n",
    "    zero_probability = the_probability(zero_prob, prior_zero)\n",
    "    bayesian_pred = compare_probabilities(zero_probability, one_probability)\n",
    "    tn, fp, fn, tp = confusion_matrix(k_y_tr, bayesian_pred).ravel()\n",
    "    confusion_matrix_statistics(tp, fp, tn, fn)\n",
    "    print(\"\\n\")"
   ]
  },
  {
   "cell_type": "code",
   "execution_count": 52,
   "metadata": {},
   "outputs": [
    {
     "name": "stdout",
     "output_type": "stream",
     "text": [
      "The accuracy of the model is 0.5217910447761194\n",
      "The precision of the model is 0.7692307692307693\n",
      "The recall of the model is 0.05405405405405406\n",
      "The F1 score of the model is 0.10101010101010101\n",
      "The AUC score is 0.5190151575908252\n",
      "\n",
      "\n"
     ]
    },
    {
     "data": {
      "image/png": "[encoded data removed]",
      "text/plain": [
       "<Figure size 432x288 with 1 Axes>"
      ]
     },
     "metadata": {
      "needs_background": "light"
     },
     "output_type": "display_data"
    }
   ],
   "source": [
    "one_prob = guassian_probability_density_function(x_us_tr, one_mean_np, one_dev_np)\n",
    "one_probability = the_probability(one_prob, prior_one)\n",
    "zero_prob = guassian_probability_density_function(x_us_tr, zero_mean_np, zero_dev_np)\n",
    "zero_probability = the_probability(zero_prob, prior_zero)\n",
    "bayesian_pred = compare_probabilities(zero_probability, one_probability)\n",
    "tn, fp, fn, tp = confusion_matrix(y_us_tr, bayesian_pred).ravel()\n",
    "confusion_matrix_statistics(tp, fp, tn, fn)\n",
    "\n",
    "the_auc = roc_auc_score(y_us_tr, bayesian_pred)\n",
    "print(\"The AUC score is %s\" %the_auc)\n",
    "print(\"\\n\")\n",
    "fpr, tpr, thresholds = roc_curve(y_us_tr, bayesian_pred)\n",
    "plt.title('Receiver Operating Characteristic')\n",
    "plt.plot(fpr, tpr, 'b', label = 'AUC = %0.2f' % the_auc)\n",
    "plt.legend(loc = 'lower right')\n",
    "plt.plot([0, 1], [0, 1],'r--')\n",
    "plt.xlim([0, 1])\n",
    "plt.ylim([0, 1])\n",
    "plt.ylabel('True Positive Rate')\n",
    "plt.xlabel('False Positive Rate')\n",
    "plt.show()"
   ]
  },
  {
   "cell_type": "code",
   "execution_count": 53,
   "metadata": {},
   "outputs": [
    {
     "name": "stdout",
     "output_type": "stream",
     "text": [
      "The accuracy of the model is 0.5119331742243437\n",
      "The precision of the model is 0.7631578947368421\n",
      "The recall of the model is 0.0675990675990676\n",
      "The F1 score of the model is 0.12419700214132762\n",
      "The AUC score is 0.5227970888117587\n",
      "\n",
      "\n"
     ]
    },
    {
     "data": {
      "image/png": "[encoded data removed]",
      "text/plain": [
       "<Figure size 432x288 with 1 Axes>"
      ]
     },
     "metadata": {
      "needs_background": "light"
     },
     "output_type": "display_data"
    }
   ],
   "source": [
    "one_prob = guassian_probability_density_function(x_us_te, one_mean_np, one_dev_np)\n",
    "one_probability = the_probability(one_prob, prior_one)\n",
    "zero_prob = guassian_probability_density_function(x_us_te, zero_mean_np, zero_dev_np)\n",
    "zero_probability = the_probability(zero_prob, prior_zero)\n",
    "bayesian_pred = compare_probabilities(zero_probability, one_probability)\n",
    "tn, fp, fn, tp = confusion_matrix(y_us_te, bayesian_pred).ravel()\n",
    "confusion_matrix_statistics(tp, fp, tn, fn)\n",
    "\n",
    "the_auc = roc_auc_score(y_us_te, bayesian_pred)\n",
    "print(\"The AUC score is %s\" %the_auc)\n",
    "print(\"\\n\")\n",
    "fpr, tpr, thresholds = roc_curve(y_us_te, bayesian_pred)\n",
    "plt.title('Receiver Operating Characteristic')\n",
    "plt.plot(fpr, tpr, 'b', label = 'AUC = %0.2f' % the_auc)\n",
    "plt.legend(loc = 'lower right')\n",
    "plt.plot([0, 1], [0, 1],'r--')\n",
    "plt.xlim([0, 1])\n",
    "plt.ylim([0, 1])\n",
    "plt.ylabel('True Positive Rate')\n",
    "plt.xlabel('False Positive Rate')\n",
    "plt.show()"
   ]
  },
  {
   "cell_type": "code",
   "execution_count": 54,
   "metadata": {},
   "outputs": [
    {
     "data": {
      "text/plain": [
       "array([[400,   9],\n",
       "       [400,  29]], dtype=int64)"
      ]
     },
     "execution_count": 54,
     "metadata": {},
     "output_type": "execute_result"
    }
   ],
   "source": [
    "confusion_matrix(y_us_te, bayesian_pred)"
   ]
  },
  {
   "cell_type": "markdown",
   "metadata": {},
   "source": [
    "Similarly to the logistical regression classifier, the NB classifier is not performing to expecations with the new data set. Its F1-Score and Recall are much better than on data set A. However it is still making a ton of false negative and false positive classifications. Interestingly, it performed a lot better when cross validation was used to test the model. It is still under-fitting the training data. "
   ]
  },
  {
   "cell_type": "markdown",
   "metadata": {},
   "source": [
    "k-Nearest Neighbor"
   ]
  },
  {
   "cell_type": "code",
   "execution_count": 55,
   "metadata": {},
   "outputs": [],
   "source": [
    "x_tr, x_te, y_tr, y_te = train_test_split(set_a_np, y, test_size=0.2, random_state=42)"
   ]
  },
  {
   "cell_type": "code",
   "execution_count": 56,
   "metadata": {},
   "outputs": [],
   "source": [
    "#Normalizing the data\n",
    "x_tr = x_scaler.fit_transform(x_tr)\n",
    "\n",
    "x_tr = np.concatenate((np.ones((75745,1), dtype=float), x_tr), axis=1)\n",
    "x_te = np.concatenate((np.ones((18937,1), dtype=float), x_te), axis=1)"
   ]
  },
  {
   "cell_type": "code",
   "execution_count": 57,
   "metadata": {},
   "outputs": [],
   "source": [
    "train = np.concatenate((x_tr, y_tr), axis=1)\n",
    "test = np.concatenate((x_te, y_te), axis=1)"
   ]
  },
  {
   "cell_type": "markdown",
   "metadata": {},
   "source": [
    "The functions to calculate the euclidean distance, gather the specified number of neighbors, and make a prediction on the class labels of those neighbors."
   ]
  },
  {
   "cell_type": "code",
   "execution_count": 58,
   "metadata": {},
   "outputs": [],
   "source": [
    "def distance_and_predict(x_tr, y_tr, x_te, k):\n",
    "    distances = []\n",
    "    targets = []\n",
    "    for i in range(len(x_tr)):\n",
    "        distance = np.sqrt(np.sum(np.square(x_te - x_tr[i, :])))\n",
    "        distances.append([distance, i])\n",
    "    \n",
    "    distances = sorted(distances)\n",
    "    \n",
    "    for i in range(k):\n",
    "        index = distances[i][1]\n",
    "        targets.append(y_tr[index])\n",
    "        \n",
    "    targets = np.array(targets)\n",
    "    targets = targets.astype(int)\n",
    "    targets = np.squeeze(targets)\n",
    "    count = np.bincount(targets).argmax()\n",
    "\n",
    "    return count\n",
    "\n",
    "def k_nearest_neighbor(x_tr, y_tr, x_te, predictions, k):\n",
    "    for i in range(len(x_te)):\n",
    "        predictions.append(distance_and_predict(x_te, y_tr, x_te[i, :], k))"
   ]
  },
  {
   "cell_type": "markdown",
   "metadata": {},
   "source": [
    "Cross validation using different values of k, starting at k = 2."
   ]
  },
  {
   "cell_type": "code",
   "execution_count": 59,
   "metadata": {
    "scrolled": true
   },
   "outputs": [
    {
     "name": "stdout",
     "output_type": "stream",
     "text": [
      "The accuracy of the model is 0.975049504950495\n",
      "The precision of the model is 0.0\n",
      "The recall of the model is 0.0\n",
      "The F1 score of the model is nan\n",
      "\n",
      "\n"
     ]
    },
    {
     "name": "stderr",
     "output_type": "stream",
     "text": [
      "C:\\Users\\steph\\Anaconda3\\lib\\site-packages\\ipykernel_launcher.py:41: RuntimeWarning: invalid value encountered in double_scalars\n"
     ]
    },
    {
     "name": "stdout",
     "output_type": "stream",
     "text": [
      "The accuracy of the model is 0.9753135313531354\n",
      "The precision of the model is 0.0\n",
      "The recall of the model is 0.0\n",
      "The F1 score of the model is nan\n",
      "\n",
      "\n",
      "The accuracy of the model is 0.98006600660066\n",
      "The precision of the model is nan\n",
      "The recall of the model is 0.0\n",
      "The F1 score of the model is nan\n",
      "\n",
      "\n"
     ]
    },
    {
     "name": "stderr",
     "output_type": "stream",
     "text": [
      "C:\\Users\\steph\\Anaconda3\\lib\\site-packages\\ipykernel_launcher.py:37: RuntimeWarning: invalid value encountered in longlong_scalars\n"
     ]
    },
    {
     "name": "stdout",
     "output_type": "stream",
     "text": [
      "The accuracy of the model is 0.98006600660066\n",
      "The precision of the model is 0.0\n",
      "The recall of the model is 0.0\n",
      "The F1 score of the model is nan\n",
      "\n",
      "\n",
      "The accuracy of the model is 0.9771617161716172\n",
      "The precision of the model is nan\n",
      "The recall of the model is 0.0\n",
      "The F1 score of the model is nan\n",
      "\n",
      "\n",
      "The accuracy of the model is 0.9770266701874835\n",
      "The precision of the model is nan\n",
      "The recall of the model is 0.0\n",
      "The F1 score of the model is nan\n",
      "\n",
      "\n",
      "The accuracy of the model is 0.9796672828096118\n",
      "The precision of the model is nan\n",
      "The recall of the model is 0.0\n",
      "The F1 score of the model is nan\n",
      "\n",
      "\n",
      "The accuracy of the model is 0.9775547927119091\n",
      "The precision of the model is nan\n",
      "The recall of the model is 0.0\n",
      "The F1 score of the model is nan\n",
      "\n",
      "\n",
      "The accuracy of the model is 0.9745180881964616\n",
      "The precision of the model is nan\n",
      "The recall of the model is 0.0\n",
      "The F1 score of the model is nan\n",
      "\n",
      "\n",
      "The accuracy of the model is 0.9787430683918669\n",
      "The precision of the model is nan\n",
      "The recall of the model is 0.0\n",
      "The F1 score of the model is nan\n",
      "\n",
      "\n"
     ]
    }
   ],
   "source": [
    "k = 2\n",
    "\n",
    "kf = KFold(n_splits = 10)\n",
    "for train, test in kf.split(x_tr):\n",
    "    k_x_tr, k_x_te = x_tr[train], x_tr[test] \n",
    "    k_y_tr, k_y_te = y_tr[train], y_tr[test]\n",
    "    predictions = []\n",
    "    k_nearest_neighbor(k_x_tr, k_y_tr, k_x_te, predictions, k)\n",
    "    predictions = np.asarray(predictions)\n",
    "    tn, fp, fn, tp = confusion_matrix(k_y_te, predictions).ravel()\n",
    "    confusion_matrix_statistics(tp, fp, tn, fn)\n",
    "    k = k + 1\n",
    "    print(\"\\n\")"
   ]
  },
  {
   "cell_type": "markdown",
   "metadata": {},
   "source": [
    "The way that my implementation of the kNN classifier functions is that it calculates the euclidean distances between the training and test sets, and then attempts to predict the classifers of the test set."
   ]
  },
  {
   "cell_type": "code",
   "execution_count": 60,
   "metadata": {},
   "outputs": [],
   "source": [
    "predictions = []\n",
    "k_nearest_neighbor(x_tr, y_tr, x_te, predictions, k = 3)\n",
    "predictions = np.asarray(predictions)"
   ]
  },
  {
   "cell_type": "code",
   "execution_count": 61,
   "metadata": {},
   "outputs": [
    {
     "name": "stdout",
     "output_type": "stream",
     "text": [
      "The accuracy of the model is 0.9769762898030311\n",
      "The precision of the model is 0.02857142857142857\n",
      "The recall of the model is 0.0024813895781637717\n",
      "The F1 score of the model is 0.004566210045662101\n"
     ]
    }
   ],
   "source": [
    "tn, fp, fn, tp = confusion_matrix(y_te, predictions).ravel()\n",
    "confusion_matrix_statistics(tp, fp, tn, fn)"
   ]
  },
  {
   "cell_type": "code",
   "execution_count": 62,
   "metadata": {},
   "outputs": [
    {
     "data": {
      "text/plain": [
       "array([[18500,    34],\n",
       "       [  402,     1]], dtype=int64)"
      ]
     },
     "execution_count": 62,
     "metadata": {},
     "output_type": "execute_result"
    }
   ],
   "source": [
    "confusion_matrix(y_te, predictions)"
   ]
  },
  {
   "cell_type": "code",
   "execution_count": 63,
   "metadata": {},
   "outputs": [
    {
     "name": "stdout",
     "output_type": "stream",
     "text": [
      "The AUC score is 0.5003234615960312\n",
      "\n",
      "\n"
     ]
    },
    {
     "data": {
      "image/png": "[encoded data removed]",
      "text/plain": [
       "<Figure size 432x288 with 1 Axes>"
      ]
     },
     "metadata": {
      "needs_background": "light"
     },
     "output_type": "display_data"
    }
   ],
   "source": [
    "the_auc = roc_auc_score(y_te, predictions)\n",
    "print(\"The AUC score is %s\" %the_auc)\n",
    "print(\"\\n\")\n",
    "fpr, tpr, thresholds = roc_curve(y_te, predictions)\n",
    "plt.title('Receiver Operating Characteristic')\n",
    "plt.plot(fpr, tpr, 'b', label = 'AUC = %0.2f' % the_auc)\n",
    "plt.legend(loc = 'lower right')\n",
    "plt.plot([0, 1], [0, 1],'r--')\n",
    "plt.xlim([0, 1])\n",
    "plt.ylim([0, 1])\n",
    "plt.ylabel('True Positive Rate')\n",
    "plt.xlabel('False Positive Rate')\n",
    "plt.show()"
   ]
  },
  {
   "cell_type": "markdown",
   "metadata": {},
   "source": [
    "The kNN classifier is making a very large proportion of false negative labels. I'm not sure of the reason for this. In comparison to all of the other classifiers, the kNN is under-fitting the test data to the largest degree and making the large percentage of false negative classifications."
   ]
  },
  {
   "cell_type": "code",
   "execution_count": 64,
   "metadata": {},
   "outputs": [],
   "source": [
    "y_us = y_us.reshape((y_us.shape[0], 1))\n",
    "x_us_tr, x_us_te, y_us_tr, y_us_te = train_test_split(x_us, y_us, test_size=0.2, random_state=42)\n",
    "x_us_tr = xScaler.fit_transform(x_us_tr)\n",
    "x_us_tr = np.concatenate((np.ones((3350,1), dtype=float), x_us_tr), axis=1)\n",
    "x_us_te = np.concatenate((np.ones((838,1), dtype=float), x_us_te), axis=1)"
   ]
  },
  {
   "cell_type": "code",
   "execution_count": 65,
   "metadata": {},
   "outputs": [
    {
     "name": "stdout",
     "output_type": "stream",
     "text": [
      "The accuracy of the model is 0.4746268656716418\n",
      "The precision of the model is 0.574468085106383\n",
      "The recall of the model is 0.28421052631578947\n",
      "The F1 score of the model is 0.3802816901408451\n",
      "\n",
      "\n",
      "The accuracy of the model is 0.5343283582089552\n",
      "The precision of the model is 0.5305164319248826\n",
      "The recall of the model is 0.6686390532544378\n",
      "The F1 score of the model is 0.5916230366492147\n",
      "\n",
      "\n",
      "The accuracy of the model is 0.44776119402985076\n",
      "The precision of the model is 0.4117647058823529\n",
      "The recall of the model is 0.3987341772151899\n",
      "The F1 score of the model is 0.40514469453376206\n",
      "\n",
      "\n",
      "The accuracy of the model is 0.48059701492537316\n",
      "The precision of the model is 0.4792626728110599\n",
      "The recall of the model is 0.6303030303030303\n",
      "The F1 score of the model is 0.544502617801047\n",
      "\n",
      "\n",
      "The accuracy of the model is 0.4955223880597015\n",
      "The precision of the model is 0.5\n",
      "The recall of the model is 0.5325443786982249\n",
      "The F1 score of the model is 0.515759312320917\n",
      "\n",
      "\n",
      "The accuracy of the model is 0.5492537313432836\n",
      "The precision of the model is 0.5253456221198156\n",
      "The recall of the model is 0.7037037037037037\n",
      "The F1 score of the model is 0.6015831134564643\n",
      "\n",
      "\n",
      "The accuracy of the model is 0.4\n",
      "The precision of the model is 0.4329896907216495\n",
      "The recall of the model is 0.48\n",
      "The F1 score of the model is 0.4552845528455285\n",
      "\n",
      "\n",
      "The accuracy of the model is 0.5044776119402985\n",
      "The precision of the model is 0.4558139534883721\n",
      "The recall of the model is 0.6666666666666666\n",
      "The F1 score of the model is 0.5414364640883977\n",
      "\n",
      "\n",
      "The accuracy of the model is 0.44776119402985076\n",
      "The precision of the model is 0.430939226519337\n",
      "The recall of the model is 0.4875\n",
      "The F1 score of the model is 0.4574780058651026\n",
      "\n",
      "\n",
      "The accuracy of the model is 0.5343283582089552\n",
      "The precision of the model is 0.5321100917431193\n",
      "The recall of the model is 0.6823529411764706\n",
      "The F1 score of the model is 0.5979381443298969\n",
      "\n",
      "\n"
     ]
    }
   ],
   "source": [
    "k = 2\n",
    "\n",
    "kf = KFold(n_splits = 10)\n",
    "for train, test in kf.split(x_us_tr):\n",
    "    k_x_tr, k_x_te = x_us_tr[train], x_us_tr[test] \n",
    "    k_y_tr, k_y_te = y_us_tr[train], y_us_tr[test]\n",
    "    predictions = []\n",
    "    k_nearest_neighbor(k_x_tr, k_y_tr, k_x_te, predictions, k)\n",
    "    predictions = np.asarray(predictions)\n",
    "    tn, fp, fn, tp = confusion_matrix(k_y_te, predictions).ravel()\n",
    "    confusion_matrix_statistics(tp, fp, tn, fn)\n",
    "    k = k + 1\n",
    "    print(\"\\n\")"
   ]
  },
  {
   "cell_type": "code",
   "execution_count": 66,
   "metadata": {},
   "outputs": [
    {
     "name": "stdout",
     "output_type": "stream",
     "text": [
      "The accuracy of the model is 0.4797136038186158\n",
      "The precision of the model is 0.4889589905362776\n",
      "The recall of the model is 0.3613053613053613\n",
      "The F1 score of the model is 0.41554959785522794\n",
      "\n",
      "\n"
     ]
    },
    {
     "data": {
      "text/plain": [
       "array([[247, 162],\n",
       "       [274, 155]], dtype=int64)"
      ]
     },
     "execution_count": 66,
     "metadata": {},
     "output_type": "execute_result"
    }
   ],
   "source": [
    "predictions = []\n",
    "k_nearest_neighbor(x_us_tr, y_us_tr, x_us_te, predictions, k = 8)\n",
    "predictions = np.asarray(predictions)\n",
    "tn, fp, fn, tp = confusion_matrix(y_us_te, predictions).ravel()\n",
    "confusion_matrix_statistics(tp, fp, tn, fn)\n",
    "print(\"\\n\")\n",
    "confusion_matrix(y_us_te, predictions)"
   ]
  },
  {
   "cell_type": "code",
   "execution_count": 67,
   "metadata": {},
   "outputs": [
    {
     "name": "stdout",
     "output_type": "stream",
     "text": [
      "The AUC score is 0.48260867087272963\n",
      "\n",
      "\n"
     ]
    },
    {
     "data": {
      "image/png": "[encoded data removed]",
      "text/plain": [
       "<Figure size 432x288 with 1 Axes>"
      ]
     },
     "metadata": {
      "needs_background": "light"
     },
     "output_type": "display_data"
    }
   ],
   "source": [
    "the_auc = roc_auc_score(y_us_te, predictions)\n",
    "print(\"The AUC score is %s\" %the_auc)\n",
    "print(\"\\n\")\n",
    "fpr, tpr, thresholds = roc_curve(y_us_te, predictions)\n",
    "plt.title('Receiver Operating Characteristic')\n",
    "plt.plot(fpr, tpr, 'b', label = 'AUC = %0.2f' % the_auc)\n",
    "plt.legend(loc = 'lower right')\n",
    "plt.plot([0, 1], [0, 1],'r--')\n",
    "plt.xlim([0, 1])\n",
    "plt.ylim([0, 1])\n",
    "plt.ylabel('True Positive Rate')\n",
    "plt.xlabel('False Positive Rate')\n",
    "plt.show()"
   ]
  },
  {
   "cell_type": "markdown",
   "metadata": {},
   "source": [
    "My implementation of the kNN classifier seems to do a consistantly bad job despite the data set. Based on the above sampling, the k-value that performs best is very inconsistant. At some values of k, say 5, the model has poor metrics of accuracy, f1-score, recall, and precision. At the next k value, these metrics get better. And then when k is one bigger than that (for this example, 7), they go back down again. I think my implementation of this classifier must be flawed, but I was unable to understand why. Compared to the other classifying methods, my kNN classifier performed the worst regardless of the data set.\n"
   ]
  },
  {
   "cell_type": "markdown",
   "metadata": {},
   "source": [
    "If I was asked to choose the best model that was least likely to miss fraudulent transactions, I would want to choose the model that correctly predicted the most true negative samples. In this situation, for this metric, the naive bayes classifier is the best classification method. The kNN method only correctly identified one fraudulent reaction, while the logistical regression correctly identified around 140 samples. The NB classifier correctly identified around 180 fraudulent transactions. Based on the fact that in this situation you are trying to identify which model gets the most true negative classifications, the NB classifier performed the best."
   ]
  },
  {
   "cell_type": "markdown",
   "metadata": {},
   "source": [
    "If the company was looking for the model that makes the least amount of false fraudulent classifications (false negatives), the best model is technically the kNN classifier. For the test sample, the kNN model classified only around 30 false fraudulent classifications. However this comes with the caveat that it made only 1 correct fraudulent classification. On the other hand, the logistical regression classifier made almost as many correct fraudulent (true negative) transactions as the NB classifier, but about 3000 less false fraudulent classifications. Taking all of this into account, since the kNN classifier wasn't able to correctly classify false transactions, my recommendation would be the logistic regression classifier. However Based strictly on a cost-matrix analysis, kNN would have less of a cost from false negatives."
   ]
  },
  {
   "cell_type": "markdown",
   "metadata": {},
   "source": [
    "Overall, I think the best model for Coinbank is the logistical regression. The logistical regression classifier had the highest F1-scores, a low amount of false negative classifications, a good amount of true negative (fraudulent) classifications, and the highest AUC score. The logistical regression classifier had the most consistent and best performance for data set A."
   ]
  },
  {
   "cell_type": "markdown",
   "metadata": {},
   "source": [
    "Repeating the analysis on data set B."
   ]
  },
  {
   "cell_type": "markdown",
   "metadata": {},
   "source": [
    "Preparing the Dataset."
   ]
  },
  {
   "cell_type": "code",
   "execution_count": 68,
   "metadata": {},
   "outputs": [],
   "source": [
    "y_b = class_labels_b.values\n",
    "y_b = y_b.reshape((y_b.shape[0], 1))\n",
    "\n",
    "x_b_tr, x_be_te, y_b_tr, y_b_te = train_test_split(set_b_np, y_b, test_size=0.2, random_state=42)\n",
    "\n",
    "x_b_tr = x_scaler.fit_transform(x_b_tr)\n",
    "\n",
    "x_b_tr = np.concatenate((np.ones((80000,1), dtype=float), x_b_tr), axis=1)\n",
    "x_be_te = np.concatenate((np.ones((20000,1), dtype=float), x_be_te), axis=1)"
   ]
  },
  {
   "cell_type": "code",
   "execution_count": 69,
   "metadata": {},
   "outputs": [
    {
     "name": "stdout",
     "output_type": "stream",
     "text": [
      "The accuracy of the model is 0.9294027777777778\n",
      "The precision of the model is 0.024857741838873914\n",
      "The recall of the model is 0.043455497382198956\n",
      "The F1 score of the model is 0.031625071442179464\n",
      "\n",
      "\n",
      "The accuracy of the model is 0.9303888888888889\n",
      "The precision of the model is 0.02451731535396874\n",
      "The recall of the model is 0.041906757464641176\n",
      "The F1 score of the model is 0.030935808197989176\n",
      "\n",
      "\n",
      "The accuracy of the model is 0.9313472222222222\n",
      "The precision of the model is 0.024772656005017248\n",
      "The recall of the model is 0.04131799163179916\n",
      "The F1 score of the model is 0.03097431876102725\n",
      "\n",
      "\n",
      "The accuracy of the model is 0.9329027777777777\n",
      "The precision of the model is 0.024398178269355888\n",
      "The recall of the model is 0.03932878867330886\n",
      "The F1 score of the model is 0.03011443485243927\n",
      "\n",
      "\n",
      "The accuracy of the model is 0.935\n",
      "The precision of the model is 0.02367879203843514\n",
      "The recall of the model is 0.03623949579831933\n",
      "The F1 score of the model is 0.028642590286425906\n",
      "\n",
      "\n",
      "The accuracy of the model is 0.9376111111111111\n",
      "The precision of the model is 0.024158125915080528\n",
      "The recall of the model is 0.03488372093023256\n",
      "The F1 score of the model is 0.028546712802768166\n",
      "\n",
      "\n",
      "The accuracy of the model is 0.9399444444444445\n",
      "The precision of the model is 0.022870662460567823\n",
      "The recall of the model is 0.03046218487394958\n",
      "The F1 score of the model is 0.026126126126126126\n",
      "\n",
      "\n",
      "The accuracy of the model is 0.9430416666666667\n",
      "The precision of the model is 0.02178649237472767\n",
      "The recall of the model is 0.026232948583420776\n",
      "The F1 score of the model is 0.023803856224708406\n",
      "\n",
      "\n",
      "The accuracy of the model is 0.94575\n",
      "The precision of the model is 0.022201228153046763\n",
      "The recall of the model is 0.02496016994158258\n",
      "The F1 score of the model is 0.0235\n",
      "\n",
      "\n",
      "The accuracy of the model is 0.9486527777777778\n",
      "The precision of the model is 0.02170460561143462\n",
      "The recall of the model is 0.021693121693121695\n",
      "The F1 score of the model is 0.021698862132839374\n",
      "\n",
      "\n"
     ]
    }
   ],
   "source": [
    "epochs = 1\n",
    "learning_rate = 0.001\n",
    "batch_size = 16\n",
    "w = np.random.rand(20, 1)\n",
    "\n",
    "kf = KFold(n_splits = 10)\n",
    "for train, test in kf.split(x_b_tr):\n",
    "    k_x_tr, k_x_te = x_b_tr[train], x_b_tr[test] \n",
    "    k_y_tr, k_y_te = y_b_tr[train], y_b_tr[test]\n",
    "    w_values = mini_batch_gradient_descent(k_x_tr, k_y_tr, w, learning_rate, epochs, batch_size)\n",
    "    y_pred = predictive_labels(k_x_tr, w_values)\n",
    "    tn, fp, fn, tp = confusion_matrix(k_y_tr, y_pred).ravel()\n",
    "    confusion_matrix_statistics(tp, fp, tn, fn)\n",
    "    batch_size = batch_size * 2\n",
    "    learning_rate = learning_rate + 0.001\n",
    "    print(\"\\n\")"
   ]
  },
  {
   "cell_type": "code",
   "execution_count": 70,
   "metadata": {},
   "outputs": [
    {
     "name": "stdout",
     "output_type": "stream",
     "text": [
      "The accuracy of the model is 0.6774625\n",
      "The precision of the model is 0.026767878545745107\n",
      "The recall of the model is 0.3170847136772362\n",
      "The F1 score of the model is 0.049368161220204106\n",
      "The AUC score is 0.5021619595964596\n"
     ]
    },
    {
     "data": {
      "image/png": "[encoded data removed]",
      "text/plain": [
       "<Figure size 432x288 with 1 Axes>"
      ]
     },
     "metadata": {
      "needs_background": "light"
     },
     "output_type": "display_data"
    }
   ],
   "source": [
    "epochs = 1\n",
    "learning_rate = 0.001\n",
    "batch_size = 64\n",
    "w = np.random.rand(20, 1)\n",
    "\n",
    "w_values_test_b = mini_batch_gradient_descent(x_b_tr, y_b_tr, w, learning_rate, epochs, batch_size)\n",
    "\n",
    "y_b_pred_tr = predictive_labels(x_b_tr, w_values_test_b)\n",
    "\n",
    "confusion_matrix(y_b_tr, y_b_pred_tr)\n",
    "\n",
    "tn, fp, fn, tp = confusion_matrix(y_b_tr, y_b_pred_tr).ravel()\n",
    "confusion_matrix_statistics(tp, fp, tn, fn)\n",
    "\n",
    "the_auc = roc_auc_score(y_b_tr, y_b_pred_tr)\n",
    "print(\"The AUC score is %s\" %the_auc)\n",
    "\n",
    "fpr, tpr, thresholds = roc_curve(y_b_tr, y_b_pred_tr)\n",
    "\n",
    "plt.title('Receiver Operating Characteristic')\n",
    "plt.plot(fpr, tpr, 'b', label = 'AUC = %0.2f' % the_auc)\n",
    "plt.legend(loc = 'lower right')\n",
    "plt.plot([0, 1], [0, 1],'r--')\n",
    "plt.xlim([0, 1])\n",
    "plt.ylim([0, 1])\n",
    "plt.ylabel('True Positive Rate')\n",
    "plt.xlabel('False Positive Rate')\n",
    "plt.show()"
   ]
  },
  {
   "cell_type": "code",
   "execution_count": 71,
   "metadata": {},
   "outputs": [
    {
     "name": "stdout",
     "output_type": "stream",
     "text": [
      "The accuracy of the model is 0.97295\n",
      "The precision of the model is nan\n",
      "The recall of the model is 0.0\n",
      "The F1 score of the model is nan\n",
      "The AUC score is 0.5\n"
     ]
    },
    {
     "name": "stderr",
     "output_type": "stream",
     "text": [
      "C:\\Users\\steph\\Anaconda3\\lib\\site-packages\\ipykernel_launcher.py:37: RuntimeWarning: invalid value encountered in longlong_scalars\n"
     ]
    },
    {
     "data": {
      "image/png": "[encoded data removed]",
      "text/plain": [
       "<Figure size 432x288 with 1 Axes>"
      ]
     },
     "metadata": {
      "needs_background": "light"
     },
     "output_type": "display_data"
    }
   ],
   "source": [
    "y_b_pred_te = predictive_labels(x_be_te, w_values_test_b)\n",
    "confusion_matrix(y_b_te, y_b_pred_te)\n",
    "\n",
    "tn, fp, fn, tp = confusion_matrix(y_b_te, y_b_pred_te).ravel()\n",
    "confusion_matrix_statistics(tp, fp, tn, fn)\n",
    "\n",
    "the_auc = roc_auc_score(y_b_te, y_b_pred_te)\n",
    "print(\"The AUC score is %s\" %the_auc)\n",
    "\n",
    "fpr, tpr, thresholds = roc_curve(y_b_te, y_b_pred_te)\n",
    "\n",
    "plt.title('Receiver Operating Characteristic')\n",
    "plt.plot(fpr, tpr, 'b', label = 'AUC = %0.2f' % the_auc)\n",
    "plt.legend(loc = 'lower right')\n",
    "plt.plot([0, 1], [0, 1],'r--')\n",
    "plt.xlim([0, 1])\n",
    "plt.ylim([0, 1])\n",
    "plt.ylabel('True Positive Rate')\n",
    "plt.xlabel('False Positive Rate')\n",
    "plt.show()"
   ]
  },
  {
   "cell_type": "code",
   "execution_count": 72,
   "metadata": {},
   "outputs": [
    {
     "data": {
      "text/plain": [
       "array([[19459,     0],\n",
       "       [  541,     0]], dtype=int64)"
      ]
     },
     "execution_count": 72,
     "metadata": {},
     "output_type": "execute_result"
    }
   ],
   "source": [
    "confusion_matrix(y_b_te, y_b_pred_te)"
   ]
  },
  {
   "cell_type": "markdown",
   "metadata": {},
   "source": [
    "Naive Bayesian classifier on data set B"
   ]
  },
  {
   "cell_type": "code",
   "execution_count": 73,
   "metadata": {},
   "outputs": [
    {
     "name": "stderr",
     "output_type": "stream",
     "text": [
      "C:\\Users\\steph\\Anaconda3\\lib\\site-packages\\pandas\\core\\indexes\\base.py:3772: RuntimeWarning: '<' not supported between instances of 'str' and 'int', sort order is undefined for incomparable objects\n",
      "  return this.join(other, how=how, return_indexers=return_indexers)\n"
     ]
    }
   ],
   "source": [
    "the_set_b = set_b.add(class_labels_b, fill_value = 0)\n",
    "\n",
    "#Renaming the label column \n",
    "the_set_b = the_set_b.rename(columns={the_set_b.columns[-1]: \"label\" })\n",
    "the_set_b.columns\n",
    "\n",
    "num_zero = the_set_b.label.value_counts()[0.0]\n",
    "num_one = the_set_b.label.value_counts()[1.0]\n",
    "total_labels = num_one + num_zero\n",
    "prior_zero = float(num_zero / total_labels)\n",
    "prior_one = float(num_one / total_labels)"
   ]
  },
  {
   "cell_type": "code",
   "execution_count": 74,
   "metadata": {},
   "outputs": [
    {
     "data": {
      "text/html": [
       "<div>\n",
       "<style scoped>\n",
       "    .dataframe tbody tr th:only-of-type {\n",
       "        vertical-align: middle;\n",
       "    }\n",
       "\n",
       "    .dataframe tbody tr th {\n",
       "        vertical-align: top;\n",
       "    }\n",
       "\n",
       "    .dataframe thead th {\n",
       "        text-align: right;\n",
       "    }\n",
       "</style>\n",
       "<table border=\"1\" class=\"dataframe\">\n",
       "  <thead>\n",
       "    <tr style=\"text-align: right;\">\n",
       "      <th></th>\n",
       "      <th>amount</th>\n",
       "      <th>hour1</th>\n",
       "      <th>state1</th>\n",
       "      <th>zip1</th>\n",
       "      <th>custAttr1</th>\n",
       "      <th>field1</th>\n",
       "      <th>custAttr2</th>\n",
       "      <th>field2</th>\n",
       "      <th>hour2</th>\n",
       "      <th>flag1</th>\n",
       "      <th>total</th>\n",
       "      <th>field3</th>\n",
       "      <th>field4</th>\n",
       "      <th>indicator1</th>\n",
       "      <th>indicator2</th>\n",
       "      <th>flag2</th>\n",
       "      <th>flag3</th>\n",
       "      <th>flag4</th>\n",
       "      <th>flag5</th>\n",
       "    </tr>\n",
       "    <tr>\n",
       "      <th>label</th>\n",
       "      <th></th>\n",
       "      <th></th>\n",
       "      <th></th>\n",
       "      <th></th>\n",
       "      <th></th>\n",
       "      <th></th>\n",
       "      <th></th>\n",
       "      <th></th>\n",
       "      <th></th>\n",
       "      <th></th>\n",
       "      <th></th>\n",
       "      <th></th>\n",
       "      <th></th>\n",
       "      <th></th>\n",
       "      <th></th>\n",
       "      <th></th>\n",
       "      <th></th>\n",
       "      <th></th>\n",
       "      <th></th>\n",
       "    </tr>\n",
       "  </thead>\n",
       "  <tbody>\n",
       "    <tr>\n",
       "      <th>0.0</th>\n",
       "      <td>209.029245</td>\n",
       "      <td>29.504875</td>\n",
       "      <td>246.584259</td>\n",
       "      <td>101151.196700</td>\n",
       "      <td>3.982633e+08</td>\n",
       "      <td>0.982303</td>\n",
       "      <td>4.099843e+08</td>\n",
       "      <td>0.241294</td>\n",
       "      <td>29.443198</td>\n",
       "      <td>0.243127</td>\n",
       "      <td>209.029245</td>\n",
       "      <td>1.718295e+07</td>\n",
       "      <td>41.724214</td>\n",
       "      <td>0.099738</td>\n",
       "      <td>0.016722</td>\n",
       "      <td>0.246572</td>\n",
       "      <td>0.237584</td>\n",
       "      <td>0.013586</td>\n",
       "      <td>7151.717635</td>\n",
       "    </tr>\n",
       "    <tr>\n",
       "      <th>1.0</th>\n",
       "      <td>227.973165</td>\n",
       "      <td>22.244257</td>\n",
       "      <td>215.353319</td>\n",
       "      <td>81458.095747</td>\n",
       "      <td>4.420738e+08</td>\n",
       "      <td>1.300910</td>\n",
       "      <td>4.875400e+08</td>\n",
       "      <td>0.229801</td>\n",
       "      <td>22.186381</td>\n",
       "      <td>0.249832</td>\n",
       "      <td>227.973165</td>\n",
       "      <td>1.901660e+07</td>\n",
       "      <td>33.666739</td>\n",
       "      <td>0.127785</td>\n",
       "      <td>0.046261</td>\n",
       "      <td>0.249548</td>\n",
       "      <td>0.250074</td>\n",
       "      <td>0.011916</td>\n",
       "      <td>915963.368649</td>\n",
       "    </tr>\n",
       "  </tbody>\n",
       "</table>\n",
       "</div>"
      ],
      "text/plain": [
       "           amount      hour1      state1           zip1     custAttr1  \\\n",
       "label                                                                   \n",
       "0.0    209.029245  29.504875  246.584259  101151.196700  3.982633e+08   \n",
       "1.0    227.973165  22.244257  215.353319   81458.095747  4.420738e+08   \n",
       "\n",
       "         field1     custAttr2    field2      hour2     flag1       total  \\\n",
       "label                                                                      \n",
       "0.0    0.982303  4.099843e+08  0.241294  29.443198  0.243127  209.029245   \n",
       "1.0    1.300910  4.875400e+08  0.229801  22.186381  0.249832  227.973165   \n",
       "\n",
       "             field3     field4  indicator1  indicator2     flag2     flag3  \\\n",
       "label                                                                        \n",
       "0.0    1.718295e+07  41.724214    0.099738    0.016722  0.246572  0.237584   \n",
       "1.0    1.901660e+07  33.666739    0.127785    0.046261  0.249548  0.250074   \n",
       "\n",
       "          flag4          flag5  \n",
       "label                           \n",
       "0.0    0.013586    7151.717635  \n",
       "1.0    0.011916  915963.368649  "
      ]
     },
     "execution_count": 74,
     "metadata": {},
     "output_type": "execute_result"
    }
   ],
   "source": [
    "data_variance = the_set_b.groupby(['label']).var()\n",
    "data_variance"
   ]
  },
  {
   "cell_type": "code",
   "execution_count": 75,
   "metadata": {},
   "outputs": [
    {
     "data": {
      "text/html": [
       "<div>\n",
       "<style scoped>\n",
       "    .dataframe tbody tr th:only-of-type {\n",
       "        vertical-align: middle;\n",
       "    }\n",
       "\n",
       "    .dataframe tbody tr th {\n",
       "        vertical-align: top;\n",
       "    }\n",
       "\n",
       "    .dataframe thead th {\n",
       "        text-align: right;\n",
       "    }\n",
       "</style>\n",
       "<table border=\"1\" class=\"dataframe\">\n",
       "  <thead>\n",
       "    <tr style=\"text-align: right;\">\n",
       "      <th></th>\n",
       "      <th>amount</th>\n",
       "      <th>hour1</th>\n",
       "      <th>state1</th>\n",
       "      <th>zip1</th>\n",
       "      <th>custAttr1</th>\n",
       "      <th>field1</th>\n",
       "      <th>custAttr2</th>\n",
       "      <th>field2</th>\n",
       "      <th>hour2</th>\n",
       "      <th>flag1</th>\n",
       "      <th>total</th>\n",
       "      <th>field3</th>\n",
       "      <th>field4</th>\n",
       "      <th>indicator1</th>\n",
       "      <th>indicator2</th>\n",
       "      <th>flag2</th>\n",
       "      <th>flag3</th>\n",
       "      <th>flag4</th>\n",
       "      <th>flag5</th>\n",
       "    </tr>\n",
       "    <tr>\n",
       "      <th>label</th>\n",
       "      <th></th>\n",
       "      <th></th>\n",
       "      <th></th>\n",
       "      <th></th>\n",
       "      <th></th>\n",
       "      <th></th>\n",
       "      <th></th>\n",
       "      <th></th>\n",
       "      <th></th>\n",
       "      <th></th>\n",
       "      <th></th>\n",
       "      <th></th>\n",
       "      <th></th>\n",
       "      <th></th>\n",
       "      <th></th>\n",
       "      <th></th>\n",
       "      <th></th>\n",
       "      <th></th>\n",
       "      <th></th>\n",
       "    </tr>\n",
       "  </thead>\n",
       "  <tbody>\n",
       "    <tr>\n",
       "      <th>0.0</th>\n",
       "      <td>27.284813</td>\n",
       "      <td>14.033766</td>\n",
       "      <td>23.324513</td>\n",
       "      <td>543.223995</td>\n",
       "      <td>1.234568e+15</td>\n",
       "      <td>2.354663</td>\n",
       "      <td>34971.454246</td>\n",
       "      <td>0.406683</td>\n",
       "      <td>14.048384</td>\n",
       "      <td>0.417079</td>\n",
       "      <td>27.284813</td>\n",
       "      <td>363.387874</td>\n",
       "      <td>15.077548</td>\n",
       "      <td>0.112362</td>\n",
       "      <td>0.017011</td>\n",
       "      <td>0.558575</td>\n",
       "      <td>0.388562</td>\n",
       "      <td>0.013776</td>\n",
       "      <td>4.025004</td>\n",
       "    </tr>\n",
       "    <tr>\n",
       "      <th>1.0</th>\n",
       "      <td>15.670901</td>\n",
       "      <td>13.366240</td>\n",
       "      <td>23.060286</td>\n",
       "      <td>584.043331</td>\n",
       "      <td>1.234568e+15</td>\n",
       "      <td>2.867370</td>\n",
       "      <td>36178.019216</td>\n",
       "      <td>0.357573</td>\n",
       "      <td>13.375659</td>\n",
       "      <td>0.516202</td>\n",
       "      <td>15.670901</td>\n",
       "      <td>567.175207</td>\n",
       "      <td>13.145441</td>\n",
       "      <td>0.150339</td>\n",
       "      <td>0.048606</td>\n",
       "      <td>0.476639</td>\n",
       "      <td>0.495479</td>\n",
       "      <td>0.012057</td>\n",
       "      <td>456.637905</td>\n",
       "    </tr>\n",
       "  </tbody>\n",
       "</table>\n",
       "</div>"
      ],
      "text/plain": [
       "          amount      hour1     state1        zip1     custAttr1    field1  \\\n",
       "label                                                                        \n",
       "0.0    27.284813  14.033766  23.324513  543.223995  1.234568e+15  2.354663   \n",
       "1.0    15.670901  13.366240  23.060286  584.043331  1.234568e+15  2.867370   \n",
       "\n",
       "          custAttr2    field2      hour2     flag1      total      field3  \\\n",
       "label                                                                       \n",
       "0.0    34971.454246  0.406683  14.048384  0.417079  27.284813  363.387874   \n",
       "1.0    36178.019216  0.357573  13.375659  0.516202  15.670901  567.175207   \n",
       "\n",
       "          field4  indicator1  indicator2     flag2     flag3     flag4  \\\n",
       "label                                                                    \n",
       "0.0    15.077548    0.112362    0.017011  0.558575  0.388562  0.013776   \n",
       "1.0    13.145441    0.150339    0.048606  0.476639  0.495479  0.012057   \n",
       "\n",
       "            flag5  \n",
       "label              \n",
       "0.0      4.025004  \n",
       "1.0    456.637905  "
      ]
     },
     "execution_count": 75,
     "metadata": {},
     "output_type": "execute_result"
    }
   ],
   "source": [
    "data_means = the_set_b.groupby(['label']).mean()\n",
    "data_means"
   ]
  },
  {
   "cell_type": "code",
   "execution_count": 76,
   "metadata": {},
   "outputs": [],
   "source": [
    "zero_mean = data_means.iloc[0]\n",
    "one_mean = data_means.iloc[1]\n",
    "zero_dev = data_variance.iloc[0]\n",
    "one_dev = data_variance.iloc[1]\n",
    "\n",
    "one_dev_np = one_dev.values\n",
    "one_mean_np = one_mean.values\n",
    "zero_dev_np = zero_dev.values\n",
    "zero_mean_np = zero_mean.values"
   ]
  },
  {
   "cell_type": "code",
   "execution_count": 77,
   "metadata": {},
   "outputs": [
    {
     "name": "stdout",
     "output_type": "stream",
     "text": [
      "The accuracy of the model is 0.97334375\n",
      "The precision of the model is nan\n",
      "The recall of the model is 0.0\n",
      "The F1 score of the model is nan\n",
      "\n",
      "\n"
     ]
    },
    {
     "name": "stderr",
     "output_type": "stream",
     "text": [
      "C:\\Users\\steph\\Anaconda3\\lib\\site-packages\\ipykernel_launcher.py:37: RuntimeWarning: invalid value encountered in longlong_scalars\n"
     ]
    },
    {
     "name": "stdout",
     "output_type": "stream",
     "text": [
      "The accuracy of the model is 0.97334375\n",
      "The precision of the model is nan\n",
      "The recall of the model is 0.0\n",
      "The F1 score of the model is nan\n",
      "\n",
      "\n",
      "The accuracy of the model is 0.973703125\n",
      "The precision of the model is nan\n",
      "The recall of the model is 0.0\n",
      "The F1 score of the model is nan\n",
      "\n",
      "\n",
      "The accuracy of the model is 0.973484375\n",
      "The precision of the model is nan\n",
      "The recall of the model is 0.0\n",
      "The F1 score of the model is nan\n",
      "\n",
      "\n",
      "The accuracy of the model is 0.9740625\n",
      "The precision of the model is nan\n",
      "The recall of the model is 0.0\n",
      "The F1 score of the model is nan\n",
      "\n",
      "\n"
     ]
    }
   ],
   "source": [
    "x_b_tr, x_be_te, y_b_tr, y_b_te = train_test_split(set_b_np, y_b, test_size=0.2, random_state=42)\n",
    "\n",
    "kf = KFold(n_splits = 5)\n",
    "for train, test in kf.split(x_b_tr):\n",
    "    k_x_tr, k_x_te = x_b_tr[train], x_b_tr[test] \n",
    "    k_y_tr, k_y_te = y_b_tr[train], y_b_tr[test]\n",
    "    one_prob = guassian_probability_density_function(k_x_tr, one_mean_np, one_dev_np)\n",
    "    one_probability = the_probability(one_prob, prior_one)\n",
    "    zero_prob = guassian_probability_density_function(k_x_tr, zero_mean_np, zero_dev_np)\n",
    "    zero_probability = the_probability(zero_prob, prior_zero)\n",
    "    bayesian_pred = compare_probabilities(zero_probability, one_probability)\n",
    "    tn, fp, fn, tp = confusion_matrix(k_y_tr, bayesian_pred).ravel()\n",
    "    confusion_matrix_statistics(tp, fp, tn, fn)\n",
    "    print(\"\\n\")"
   ]
  },
  {
   "cell_type": "code",
   "execution_count": 79,
   "metadata": {},
   "outputs": [
    {
     "name": "stdout",
     "output_type": "stream",
     "text": [
      "The accuracy of the model is 0.9735875\n",
      "The precision of the model is nan\n",
      "The recall of the model is 0.0\n",
      "The F1 score of the model is nan\n",
      "The AUC score is 0.5\n",
      "\n",
      "\n"
     ]
    },
    {
     "name": "stderr",
     "output_type": "stream",
     "text": [
      "C:\\Users\\steph\\Anaconda3\\lib\\site-packages\\ipykernel_launcher.py:37: RuntimeWarning: invalid value encountered in longlong_scalars\n"
     ]
    },
    {
     "data": {
      "image/png": "[encoded data removed]",
      "text/plain": [
       "<Figure size 432x288 with 1 Axes>"
      ]
     },
     "metadata": {
      "needs_background": "light"
     },
     "output_type": "display_data"
    }
   ],
   "source": [
    "one_prob = guassian_probability_density_function(x_b_tr, one_mean_np, one_dev_np)\n",
    "one_probability = the_probability(one_prob, prior_one)\n",
    "zero_prob = guassian_probability_density_function(x_b_tr, zero_mean_np, zero_dev_np)\n",
    "zero_probability = the_probability(zero_prob, prior_zero)\n",
    "bayesian_pred = compare_probabilities(zero_probability, one_probability)\n",
    "tn, fp, fn, tp = confusion_matrix(y_b_tr, bayesian_pred).ravel()\n",
    "confusion_matrix_statistics(tp, fp, tn, fn)\n",
    "\n",
    "the_auc = roc_auc_score(y_b_tr, bayesian_pred)\n",
    "print(\"The AUC score is %s\" %the_auc)\n",
    "print(\"\\n\")\n",
    "fpr, tpr, thresholds = roc_curve(y_b_tr, bayesian_pred)\n",
    "plt.title('Receiver Operating Characteristic')\n",
    "plt.plot(fpr, tpr, 'b', label = 'AUC = %0.2f' % the_auc)\n",
    "plt.legend(loc = 'lower right')\n",
    "plt.plot([0, 1], [0, 1],'r--')\n",
    "plt.xlim([0, 1])\n",
    "plt.ylim([0, 1])\n",
    "plt.ylabel('True Positive Rate')\n",
    "plt.xlabel('False Positive Rate')\n",
    "plt.show()"
   ]
  },
  {
   "cell_type": "code",
   "execution_count": 80,
   "metadata": {},
   "outputs": [
    {
     "name": "stdout",
     "output_type": "stream",
     "text": [
      "The accuracy of the model is 0.97295\n",
      "The precision of the model is nan\n",
      "The recall of the model is 0.0\n",
      "The F1 score of the model is nan\n",
      "The AUC score is 0.5\n",
      "\n",
      "\n"
     ]
    },
    {
     "name": "stderr",
     "output_type": "stream",
     "text": [
      "C:\\Users\\steph\\Anaconda3\\lib\\site-packages\\ipykernel_launcher.py:37: RuntimeWarning: invalid value encountered in longlong_scalars\n"
     ]
    },
    {
     "data": {
      "image/png": "[encoded data removed]",
      "text/plain": [
       "<Figure size 432x288 with 1 Axes>"
      ]
     },
     "metadata": {
      "needs_background": "light"
     },
     "output_type": "display_data"
    }
   ],
   "source": [
    "one_prob = guassian_probability_density_function(x_be_te, one_mean_np, one_dev_np)\n",
    "one_probability = the_probability(one_prob, prior_one)\n",
    "zero_prob = guassian_probability_density_function(x_be_te, zero_mean_np, zero_dev_np)\n",
    "zero_probability = the_probability(zero_prob, prior_zero)\n",
    "bayesian_pred = compare_probabilities(zero_probability, one_probability)\n",
    "tn, fp, fn, tp = confusion_matrix(y_b_te, bayesian_pred).ravel()\n",
    "confusion_matrix_statistics(tp, fp, tn, fn)\n",
    "\n",
    "the_auc = roc_auc_score(y_b_te, bayesian_pred)\n",
    "print(\"The AUC score is %s\" %the_auc)\n",
    "print(\"\\n\")\n",
    "fpr, tpr, thresholds = roc_curve(y_b_te, bayesian_pred)\n",
    "plt.title('Receiver Operating Characteristic')\n",
    "plt.plot(fpr, tpr, 'b', label = 'AUC = %0.2f' % the_auc)\n",
    "plt.legend(loc = 'lower right')\n",
    "plt.plot([0, 1], [0, 1],'r--')\n",
    "plt.xlim([0, 1])\n",
    "plt.ylim([0, 1])\n",
    "plt.ylabel('True Positive Rate')\n",
    "plt.xlabel('False Positive Rate')\n",
    "plt.show()"
   ]
  },
  {
   "cell_type": "code",
   "execution_count": 81,
   "metadata": {},
   "outputs": [
    {
     "data": {
      "text/plain": [
       "array([[19459,     0],\n",
       "       [  541,     0]], dtype=int64)"
      ]
     },
     "execution_count": 81,
     "metadata": {},
     "output_type": "execute_result"
    }
   ],
   "source": [
    "confusion_matrix(y_b_te, bayesian_pred)"
   ]
  },
  {
   "cell_type": "markdown",
   "metadata": {},
   "source": [
    "kNN on data set B"
   ]
  },
  {
   "cell_type": "code",
   "execution_count": 82,
   "metadata": {},
   "outputs": [],
   "source": [
    "y_b = class_labels_b.values\n",
    "y_b = y_b.reshape((y_b.shape[0], 1))\n",
    "\n",
    "x_b_tr, x_be_te, y_b_tr, y_b_te = train_test_split(set_b_np, y_b, test_size=0.2, random_state=42)\n",
    "\n",
    "x_b_tr = x_scaler.fit_transform(x_b_tr)\n",
    "\n",
    "x_b_tr = np.concatenate((np.ones((80000,1), dtype=float), x_b_tr), axis=1)\n",
    "x_be_te = np.concatenate((np.ones((20000,1), dtype=float), x_be_te), axis=1)"
   ]
  },
  {
   "cell_type": "code",
   "execution_count": 83,
   "metadata": {},
   "outputs": [
    {
     "name": "stdout",
     "output_type": "stream",
     "text": [
      "The accuracy of the model is 0.9745\n",
      "The precision of the model is 0.0\n",
      "The recall of the model is 0.0\n",
      "The F1 score of the model is nan\n",
      "\n",
      "\n"
     ]
    },
    {
     "name": "stderr",
     "output_type": "stream",
     "text": [
      "C:\\Users\\steph\\Anaconda3\\lib\\site-packages\\ipykernel_launcher.py:41: RuntimeWarning: invalid value encountered in double_scalars\n"
     ]
    },
    {
     "name": "stdout",
     "output_type": "stream",
     "text": [
      "The accuracy of the model is 0.973875\n",
      "The precision of the model is 0.0\n",
      "The recall of the model is 0.0\n",
      "The F1 score of the model is nan\n",
      "\n",
      "\n",
      "The accuracy of the model is 0.97475\n",
      "The precision of the model is 0.0\n",
      "The recall of the model is 0.0\n",
      "The F1 score of the model is nan\n",
      "\n",
      "\n",
      "The accuracy of the model is 0.97375\n",
      "The precision of the model is 0.0\n",
      "The recall of the model is 0.0\n",
      "The F1 score of the model is nan\n",
      "\n",
      "\n",
      "The accuracy of the model is 0.973875\n",
      "The precision of the model is nan\n",
      "The recall of the model is 0.0\n",
      "The F1 score of the model is nan\n",
      "\n",
      "\n"
     ]
    },
    {
     "name": "stderr",
     "output_type": "stream",
     "text": [
      "C:\\Users\\steph\\Anaconda3\\lib\\site-packages\\ipykernel_launcher.py:37: RuntimeWarning: invalid value encountered in longlong_scalars\n"
     ]
    },
    {
     "name": "stdout",
     "output_type": "stream",
     "text": [
      "The accuracy of the model is 0.972375\n",
      "The precision of the model is nan\n",
      "The recall of the model is 0.0\n",
      "The F1 score of the model is nan\n",
      "\n",
      "\n",
      "The accuracy of the model is 0.973875\n",
      "The precision of the model is nan\n",
      "The recall of the model is 0.0\n",
      "The F1 score of the model is nan\n",
      "\n",
      "\n",
      "The accuracy of the model is 0.974125\n",
      "The precision of the model is nan\n",
      "The recall of the model is 0.0\n",
      "The F1 score of the model is nan\n",
      "\n",
      "\n",
      "The accuracy of the model is 0.97125\n",
      "The precision of the model is nan\n",
      "The recall of the model is 0.0\n",
      "The F1 score of the model is nan\n",
      "\n",
      "\n",
      "The accuracy of the model is 0.972125\n",
      "The precision of the model is nan\n",
      "The recall of the model is 0.0\n",
      "The F1 score of the model is nan\n",
      "\n",
      "\n"
     ]
    }
   ],
   "source": [
    "k = 2\n",
    "\n",
    "kf = KFold(n_splits = 10)\n",
    "for train, test in kf.split(x_b_tr):\n",
    "    k_x_tr, k_x_te = x_b_tr[train], x_b_tr[test] \n",
    "    k_y_tr, k_y_te = y_b_tr[train], y_b_tr[test]\n",
    "    predictions = []\n",
    "    k_nearest_neighbor(k_x_tr, k_y_tr, k_x_te, predictions, k)\n",
    "    predictions = np.asarray(predictions)\n",
    "    tn, fp, fn, tp = confusion_matrix(k_y_te, predictions).ravel()\n",
    "    confusion_matrix_statistics(tp, fp, tn, fn)\n",
    "    k = k + 1\n",
    "    print(\"\\n\")"
   ]
  },
  {
   "cell_type": "code",
   "execution_count": 84,
   "metadata": {},
   "outputs": [],
   "source": [
    "predictions = []\n",
    "k_nearest_neighbor(x_b_tr, y_b_tr, x_be_te, predictions, k = 3)\n",
    "predictions = np.asarray(predictions)"
   ]
  },
  {
   "cell_type": "code",
   "execution_count": 85,
   "metadata": {},
   "outputs": [
    {
     "name": "stdout",
     "output_type": "stream",
     "text": [
      "The accuracy of the model is 0.9711\n",
      "The precision of the model is 0.02564102564102564\n",
      "The recall of the model is 0.0018484288354898336\n",
      "The F1 score of the model is 0.0034482758620689655\n"
     ]
    }
   ],
   "source": [
    "tn, fp, fn, tp = confusion_matrix(y_b_te, predictions).ravel()\n",
    "confusion_matrix_statistics(tp, fp, tn, fn)"
   ]
  },
  {
   "cell_type": "code",
   "execution_count": 86,
   "metadata": {},
   "outputs": [
    {
     "data": {
      "text/plain": [
       "array([[19421,    38],\n",
       "       [  540,     1]], dtype=int64)"
      ]
     },
     "execution_count": 86,
     "metadata": {},
     "output_type": "execute_result"
    }
   ],
   "source": [
    "confusion_matrix(y_b_te, predictions)"
   ]
  },
  {
   "cell_type": "code",
   "execution_count": 87,
   "metadata": {},
   "outputs": [
    {
     "name": "stdout",
     "output_type": "stream",
     "text": [
      "The AUC score is 0.4999478024746852\n",
      "\n",
      "\n"
     ]
    },
    {
     "data": {
      "image/png": "[encoded data removed]",
      "text/plain": [
       "<Figure size 432x288 with 1 Axes>"
      ]
     },
     "metadata": {
      "needs_background": "light"
     },
     "output_type": "display_data"
    }
   ],
   "source": [
    "the_auc = roc_auc_score(y_b_te, predictions)\n",
    "print(\"The AUC score is %s\" %the_auc)\n",
    "print(\"\\n\")\n",
    "fpr, tpr, thresholds = roc_curve(y_b_te, predictions)\n",
    "plt.title('Receiver Operating Characteristic')\n",
    "plt.plot(fpr, tpr, 'b', label = 'AUC = %0.2f' % the_auc)\n",
    "plt.legend(loc = 'lower right')\n",
    "plt.plot([0, 1], [0, 1],'r--')\n",
    "plt.xlim([0, 1])\n",
    "plt.ylim([0, 1])\n",
    "plt.ylabel('True Positive Rate')\n",
    "plt.xlabel('False Positive Rate')\n",
    "plt.show()"
   ]
  },
  {
   "cell_type": "markdown",
   "metadata": {},
   "source": [
    "For the model that was less likely to miss fraudulent transactions (true negatives), for data set B the NB classifier was able to predict more actual fraudulent transactions than any other model. Once again, the kNN classifier performed the worst and was only able to accurately classify one fraudulent transaction."
   ]
  },
  {
   "cell_type": "markdown",
   "metadata": {},
   "source": [
    "Based on the idea that Coinbank wants to minimize falsely accusing customers of fraudulent transactions, with data set B the model that was able to classify the least amount of incorrect fraudulent transactions (false negatives), was the NB classifier. "
   ]
  },
  {
   "cell_type": "markdown",
   "metadata": {},
   "source": [
    "Overall, and unlike the case with data set A, the best overall model for data set B was the NB classifier. The NB classifier had a higher F1-score, more true negative's predicted, and a better AUC score. Because of its better consistency and results, if I were only looking at the results from data set B, I would recommend the NB classifier. The logistic regression model performed slightly worse than NB. And, once again, the kNN classifier performed the worst and had very little true negative predictions."
   ]
  }
 ],
 "metadata": {
  "kernelspec": {
   "display_name": "Python 3",
   "language": "python",
   "name": "python3"
  },
  "language_info": {
   "codemirror_mode": {
    "name": "ipython",
    "version": 3
   },
   "file_extension": ".py",
   "mimetype": "text/x-python",
   "name": "python",
   "nbconvert_exporter": "python",
   "pygments_lexer": "ipython3",
   "version": "3.7.4"
  }
 },
 "nbformat": 4,
 "nbformat_minor": 2
}
